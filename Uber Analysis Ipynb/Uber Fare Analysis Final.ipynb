{
 "cells": [
  {
   "cell_type": "markdown",
   "metadata": {},
   "source": [
    "# Library"
   ]
  },
  {
   "cell_type": "code",
   "execution_count": 47,
   "metadata": {
    "ExecuteTime": {
     "end_time": "2022-05-17T03:12:54.441987Z",
     "start_time": "2022-05-17T03:12:54.424622Z"
    }
   },
   "outputs": [],
   "source": [
    "#Basic statistic & visualization\n",
    "import pandas as pd\n",
    "import numpy as np\n",
    "import matplotlib.pyplot as plt\n",
    "import seaborn as sns\n",
    "from math import ceil\n",
    "\n",
    "#Geographic Information\n",
    "import geopy.distance\n",
    "\n",
    "#Preprocessing\n",
    "from sklearn.preprocessing import OneHotEncoder,MinMaxScaler\n",
    "from sklearn.compose import ColumnTransformer\n",
    "from sklearn.model_selection import train_test_split\n",
    "from sklearn.ensemble import IsolationForest\n",
    "\n",
    "#Modeling\n",
    "import tensorflow as tf\n",
    "from tensorflow import keras\n",
    "import keras_tuner as kt\n",
    "from tensorflow.keras.utils import plot_model"
   ]
  },
  {
   "cell_type": "markdown",
   "metadata": {},
   "source": [
    "# Problem Statement"
   ]
  },
  {
   "cell_type": "markdown",
   "metadata": {},
   "source": [
    "**Background**\n",
    "\n",
    "<p style='text-align: justify;'>Uber is an American app-based transportation platform headquartered in San Francisco, California who develop an app that connects drivers to users who need a ride, using a smartphone as a tool. The Uber Business Model is also known as a Multisided Platform Business Model, as it connects drivers (offer) and passengers (demand), in order to offer cheaper transportation and an additional source of income. \n",
    "The customer must use the Uber app to book a ride and then enter the customer's destination before the trip takes place. When the customer arrives at the destination, the journey ends. Fares are automatically calculated and charged to the payment method the customer connects to the Uber account."
   ]
  },
  {
   "cell_type": "markdown",
   "metadata": {},
   "source": [
    "**Problem**\n",
    "\n",
    "<p style='text-align: justify;'>One of the biggest problem from Uber as ride hailing company is availability of drivers at certain times (rush hours or bad weather conditions) and certain locations in some cities. The best way to solve that problems is use Surge Pricing. Surge Pricing / Dynamic Pricing (Flexible Pricing) is where prices change constantly based on market fluctuations. For that, Uber need system and algorithm to make prediction for fare amount based on some feature on history data."
   ]
  },
  {
   "cell_type": "markdown",
   "metadata": {},
   "source": [
    "**Goals**\n",
    "\n",
    "<p style='text-align: justify;'>The goals of this analysis are to know the price per transaction according to particular conditions (the time, distance traveled, etc) so surge pricing can be applied."
   ]
  },
  {
   "cell_type": "markdown",
   "metadata": {},
   "source": [
    "# Data Understanding"
   ]
  },
  {
   "cell_type": "markdown",
   "metadata": {},
   "source": [
    "## Load Dataset"
   ]
  },
  {
   "cell_type": "code",
   "execution_count": 48,
   "metadata": {
    "ExecuteTime": {
     "end_time": "2022-05-17T03:12:54.877099Z",
     "start_time": "2022-05-17T03:12:54.444738Z"
    }
   },
   "outputs": [
    {
     "data": {
      "text/html": [
       "<div>\n",
       "<style scoped>\n",
       "    .dataframe tbody tr th:only-of-type {\n",
       "        vertical-align: middle;\n",
       "    }\n",
       "\n",
       "    .dataframe tbody tr th {\n",
       "        vertical-align: top;\n",
       "    }\n",
       "\n",
       "    .dataframe thead th {\n",
       "        text-align: right;\n",
       "    }\n",
       "</style>\n",
       "<table border=\"1\" class=\"dataframe\">\n",
       "  <thead>\n",
       "    <tr style=\"text-align: right;\">\n",
       "      <th></th>\n",
       "      <th>Unnamed: 0</th>\n",
       "      <th>key</th>\n",
       "      <th>fare_amount</th>\n",
       "      <th>pickup_datetime</th>\n",
       "      <th>pickup_longitude</th>\n",
       "      <th>pickup_latitude</th>\n",
       "      <th>dropoff_longitude</th>\n",
       "      <th>dropoff_latitude</th>\n",
       "      <th>passenger_count</th>\n",
       "    </tr>\n",
       "  </thead>\n",
       "  <tbody>\n",
       "    <tr>\n",
       "      <th>0</th>\n",
       "      <td>24238194</td>\n",
       "      <td>2015-05-07 19:52:06.0000003</td>\n",
       "      <td>7.5</td>\n",
       "      <td>2015-05-07 19:52:06 UTC</td>\n",
       "      <td>-73.999817</td>\n",
       "      <td>40.738354</td>\n",
       "      <td>-73.999512</td>\n",
       "      <td>40.723217</td>\n",
       "      <td>1</td>\n",
       "    </tr>\n",
       "    <tr>\n",
       "      <th>1</th>\n",
       "      <td>27835199</td>\n",
       "      <td>2009-07-17 20:04:56.0000002</td>\n",
       "      <td>7.7</td>\n",
       "      <td>2009-07-17 20:04:56 UTC</td>\n",
       "      <td>-73.994355</td>\n",
       "      <td>40.728225</td>\n",
       "      <td>-73.994710</td>\n",
       "      <td>40.750325</td>\n",
       "      <td>1</td>\n",
       "    </tr>\n",
       "    <tr>\n",
       "      <th>2</th>\n",
       "      <td>44984355</td>\n",
       "      <td>2009-08-24 21:45:00.00000061</td>\n",
       "      <td>12.9</td>\n",
       "      <td>2009-08-24 21:45:00 UTC</td>\n",
       "      <td>-74.005043</td>\n",
       "      <td>40.740770</td>\n",
       "      <td>-73.962565</td>\n",
       "      <td>40.772647</td>\n",
       "      <td>1</td>\n",
       "    </tr>\n",
       "    <tr>\n",
       "      <th>3</th>\n",
       "      <td>25894730</td>\n",
       "      <td>2009-06-26 08:22:21.0000001</td>\n",
       "      <td>5.3</td>\n",
       "      <td>2009-06-26 08:22:21 UTC</td>\n",
       "      <td>-73.976124</td>\n",
       "      <td>40.790844</td>\n",
       "      <td>-73.965316</td>\n",
       "      <td>40.803349</td>\n",
       "      <td>3</td>\n",
       "    </tr>\n",
       "    <tr>\n",
       "      <th>4</th>\n",
       "      <td>17610152</td>\n",
       "      <td>2014-08-28 17:47:00.000000188</td>\n",
       "      <td>16.0</td>\n",
       "      <td>2014-08-28 17:47:00 UTC</td>\n",
       "      <td>-73.925023</td>\n",
       "      <td>40.744085</td>\n",
       "      <td>-73.973082</td>\n",
       "      <td>40.761247</td>\n",
       "      <td>5</td>\n",
       "    </tr>\n",
       "  </tbody>\n",
       "</table>\n",
       "</div>"
      ],
      "text/plain": [
       "   Unnamed: 0                            key  fare_amount  \\\n",
       "0    24238194    2015-05-07 19:52:06.0000003          7.5   \n",
       "1    27835199    2009-07-17 20:04:56.0000002          7.7   \n",
       "2    44984355   2009-08-24 21:45:00.00000061         12.9   \n",
       "3    25894730    2009-06-26 08:22:21.0000001          5.3   \n",
       "4    17610152  2014-08-28 17:47:00.000000188         16.0   \n",
       "\n",
       "           pickup_datetime  pickup_longitude  pickup_latitude  \\\n",
       "0  2015-05-07 19:52:06 UTC        -73.999817        40.738354   \n",
       "1  2009-07-17 20:04:56 UTC        -73.994355        40.728225   \n",
       "2  2009-08-24 21:45:00 UTC        -74.005043        40.740770   \n",
       "3  2009-06-26 08:22:21 UTC        -73.976124        40.790844   \n",
       "4  2014-08-28 17:47:00 UTC        -73.925023        40.744085   \n",
       "\n",
       "   dropoff_longitude  dropoff_latitude  passenger_count  \n",
       "0         -73.999512         40.723217                1  \n",
       "1         -73.994710         40.750325                1  \n",
       "2         -73.962565         40.772647                1  \n",
       "3         -73.965316         40.803349                3  \n",
       "4         -73.973082         40.761247                5  "
      ]
     },
     "execution_count": 48,
     "metadata": {},
     "output_type": "execute_result"
    }
   ],
   "source": [
    "df_raw = pd.read_csv(\"uber.csv\")\n",
    "df_raw.head()"
   ]
  },
  {
   "cell_type": "markdown",
   "metadata": {},
   "source": [
    "**Feature Description**\n",
    "\n",
    "* key: A unique identifier for each trip.\n",
    "* fare_amount: The cost of each trip in usd.\n",
    "* pickup_datetime: Date and time when the meter was engaged.\n",
    "* passenger_count: The number of passengers in the vehicle (driver entered value).\n",
    "* pickup_longitude: The longitude where the meter was engaged.\n",
    "* pickup_latitude: The latitude where the meter was engaged.\n",
    "* dropoff_longitude: The longitude where the meter was disengaged.\n",
    "* dropoff_latitude: The latitude where the meter was disengaged."
   ]
  },
  {
   "cell_type": "code",
   "execution_count": 49,
   "metadata": {
    "ExecuteTime": {
     "end_time": "2022-05-17T03:12:54.928238Z",
     "start_time": "2022-05-17T03:12:54.879442Z"
    }
   },
   "outputs": [
    {
     "name": "stdout",
     "output_type": "stream",
     "text": [
      "<class 'pandas.core.frame.DataFrame'>\n",
      "RangeIndex: 200000 entries, 0 to 199999\n",
      "Data columns (total 9 columns):\n",
      " #   Column             Non-Null Count   Dtype  \n",
      "---  ------             --------------   -----  \n",
      " 0   Unnamed: 0         200000 non-null  int64  \n",
      " 1   key                200000 non-null  object \n",
      " 2   fare_amount        200000 non-null  float64\n",
      " 3   pickup_datetime    200000 non-null  object \n",
      " 4   pickup_longitude   200000 non-null  float64\n",
      " 5   pickup_latitude    200000 non-null  float64\n",
      " 6   dropoff_longitude  199999 non-null  float64\n",
      " 7   dropoff_latitude   199999 non-null  float64\n",
      " 8   passenger_count    200000 non-null  int64  \n",
      "dtypes: float64(5), int64(2), object(2)\n",
      "memory usage: 13.7+ MB\n"
     ]
    }
   ],
   "source": [
    "df_raw.info()"
   ]
  },
  {
   "cell_type": "markdown",
   "metadata": {},
   "source": [
    "## Drop Unique Feature"
   ]
  },
  {
   "cell_type": "code",
   "execution_count": 50,
   "metadata": {
    "ExecuteTime": {
     "end_time": "2022-05-17T03:12:54.969927Z",
     "start_time": "2022-05-17T03:12:54.934911Z"
    }
   },
   "outputs": [
    {
     "data": {
      "text/html": [
       "<div>\n",
       "<style scoped>\n",
       "    .dataframe tbody tr th:only-of-type {\n",
       "        vertical-align: middle;\n",
       "    }\n",
       "\n",
       "    .dataframe tbody tr th {\n",
       "        vertical-align: top;\n",
       "    }\n",
       "\n",
       "    .dataframe thead th {\n",
       "        text-align: right;\n",
       "    }\n",
       "</style>\n",
       "<table border=\"1\" class=\"dataframe\">\n",
       "  <thead>\n",
       "    <tr style=\"text-align: right;\">\n",
       "      <th></th>\n",
       "      <th>fare_amount</th>\n",
       "      <th>pickup_datetime</th>\n",
       "      <th>pickup_longitude</th>\n",
       "      <th>pickup_latitude</th>\n",
       "      <th>dropoff_longitude</th>\n",
       "      <th>dropoff_latitude</th>\n",
       "      <th>passenger_count</th>\n",
       "    </tr>\n",
       "  </thead>\n",
       "  <tbody>\n",
       "    <tr>\n",
       "      <th>0</th>\n",
       "      <td>7.5</td>\n",
       "      <td>2015-05-07 19:52:06 UTC</td>\n",
       "      <td>-73.999817</td>\n",
       "      <td>40.738354</td>\n",
       "      <td>-73.999512</td>\n",
       "      <td>40.723217</td>\n",
       "      <td>1</td>\n",
       "    </tr>\n",
       "    <tr>\n",
       "      <th>1</th>\n",
       "      <td>7.7</td>\n",
       "      <td>2009-07-17 20:04:56 UTC</td>\n",
       "      <td>-73.994355</td>\n",
       "      <td>40.728225</td>\n",
       "      <td>-73.994710</td>\n",
       "      <td>40.750325</td>\n",
       "      <td>1</td>\n",
       "    </tr>\n",
       "    <tr>\n",
       "      <th>2</th>\n",
       "      <td>12.9</td>\n",
       "      <td>2009-08-24 21:45:00 UTC</td>\n",
       "      <td>-74.005043</td>\n",
       "      <td>40.740770</td>\n",
       "      <td>-73.962565</td>\n",
       "      <td>40.772647</td>\n",
       "      <td>1</td>\n",
       "    </tr>\n",
       "    <tr>\n",
       "      <th>3</th>\n",
       "      <td>5.3</td>\n",
       "      <td>2009-06-26 08:22:21 UTC</td>\n",
       "      <td>-73.976124</td>\n",
       "      <td>40.790844</td>\n",
       "      <td>-73.965316</td>\n",
       "      <td>40.803349</td>\n",
       "      <td>3</td>\n",
       "    </tr>\n",
       "    <tr>\n",
       "      <th>4</th>\n",
       "      <td>16.0</td>\n",
       "      <td>2014-08-28 17:47:00 UTC</td>\n",
       "      <td>-73.925023</td>\n",
       "      <td>40.744085</td>\n",
       "      <td>-73.973082</td>\n",
       "      <td>40.761247</td>\n",
       "      <td>5</td>\n",
       "    </tr>\n",
       "  </tbody>\n",
       "</table>\n",
       "</div>"
      ],
      "text/plain": [
       "   fare_amount          pickup_datetime  pickup_longitude  pickup_latitude  \\\n",
       "0          7.5  2015-05-07 19:52:06 UTC        -73.999817        40.738354   \n",
       "1          7.7  2009-07-17 20:04:56 UTC        -73.994355        40.728225   \n",
       "2         12.9  2009-08-24 21:45:00 UTC        -74.005043        40.740770   \n",
       "3          5.3  2009-06-26 08:22:21 UTC        -73.976124        40.790844   \n",
       "4         16.0  2014-08-28 17:47:00 UTC        -73.925023        40.744085   \n",
       "\n",
       "   dropoff_longitude  dropoff_latitude  passenger_count  \n",
       "0         -73.999512         40.723217                1  \n",
       "1         -73.994710         40.750325                1  \n",
       "2         -73.962565         40.772647                1  \n",
       "3         -73.965316         40.803349                3  \n",
       "4         -73.973082         40.761247                5  "
      ]
     },
     "execution_count": 50,
     "metadata": {},
     "output_type": "execute_result"
    }
   ],
   "source": [
    "df = df_raw.drop(columns=[\"Unnamed: 0\",\"key\"])\n",
    "df.head()"
   ]
  },
  {
   "cell_type": "code",
   "execution_count": 51,
   "metadata": {
    "ExecuteTime": {
     "end_time": "2022-05-17T03:12:55.062400Z",
     "start_time": "2022-05-17T03:12:54.972684Z"
    }
   },
   "outputs": [
    {
     "data": {
      "text/html": [
       "<div>\n",
       "<style scoped>\n",
       "    .dataframe tbody tr th:only-of-type {\n",
       "        vertical-align: middle;\n",
       "    }\n",
       "\n",
       "    .dataframe tbody tr th {\n",
       "        vertical-align: top;\n",
       "    }\n",
       "\n",
       "    .dataframe thead th {\n",
       "        text-align: right;\n",
       "    }\n",
       "</style>\n",
       "<table border=\"1\" class=\"dataframe\">\n",
       "  <thead>\n",
       "    <tr style=\"text-align: right;\">\n",
       "      <th></th>\n",
       "      <th>fare_amount</th>\n",
       "      <th>pickup_longitude</th>\n",
       "      <th>pickup_latitude</th>\n",
       "      <th>dropoff_longitude</th>\n",
       "      <th>dropoff_latitude</th>\n",
       "      <th>passenger_count</th>\n",
       "    </tr>\n",
       "  </thead>\n",
       "  <tbody>\n",
       "    <tr>\n",
       "      <th>count</th>\n",
       "      <td>200000.000000</td>\n",
       "      <td>200000.000000</td>\n",
       "      <td>200000.000000</td>\n",
       "      <td>199999.000000</td>\n",
       "      <td>199999.000000</td>\n",
       "      <td>200000.000000</td>\n",
       "    </tr>\n",
       "    <tr>\n",
       "      <th>mean</th>\n",
       "      <td>11.359955</td>\n",
       "      <td>-72.527638</td>\n",
       "      <td>39.935885</td>\n",
       "      <td>-72.525292</td>\n",
       "      <td>39.923890</td>\n",
       "      <td>1.684535</td>\n",
       "    </tr>\n",
       "    <tr>\n",
       "      <th>std</th>\n",
       "      <td>9.901776</td>\n",
       "      <td>11.437787</td>\n",
       "      <td>7.720539</td>\n",
       "      <td>13.117408</td>\n",
       "      <td>6.794829</td>\n",
       "      <td>1.385997</td>\n",
       "    </tr>\n",
       "    <tr>\n",
       "      <th>min</th>\n",
       "      <td>-52.000000</td>\n",
       "      <td>-1340.648410</td>\n",
       "      <td>-74.015515</td>\n",
       "      <td>-3356.666300</td>\n",
       "      <td>-881.985513</td>\n",
       "      <td>0.000000</td>\n",
       "    </tr>\n",
       "    <tr>\n",
       "      <th>25%</th>\n",
       "      <td>6.000000</td>\n",
       "      <td>-73.992065</td>\n",
       "      <td>40.734796</td>\n",
       "      <td>-73.991407</td>\n",
       "      <td>40.733823</td>\n",
       "      <td>1.000000</td>\n",
       "    </tr>\n",
       "    <tr>\n",
       "      <th>50%</th>\n",
       "      <td>8.500000</td>\n",
       "      <td>-73.981823</td>\n",
       "      <td>40.752592</td>\n",
       "      <td>-73.980093</td>\n",
       "      <td>40.753042</td>\n",
       "      <td>1.000000</td>\n",
       "    </tr>\n",
       "    <tr>\n",
       "      <th>75%</th>\n",
       "      <td>12.500000</td>\n",
       "      <td>-73.967154</td>\n",
       "      <td>40.767158</td>\n",
       "      <td>-73.963658</td>\n",
       "      <td>40.768001</td>\n",
       "      <td>2.000000</td>\n",
       "    </tr>\n",
       "    <tr>\n",
       "      <th>max</th>\n",
       "      <td>499.000000</td>\n",
       "      <td>57.418457</td>\n",
       "      <td>1644.421482</td>\n",
       "      <td>1153.572603</td>\n",
       "      <td>872.697628</td>\n",
       "      <td>208.000000</td>\n",
       "    </tr>\n",
       "  </tbody>\n",
       "</table>\n",
       "</div>"
      ],
      "text/plain": [
       "         fare_amount  pickup_longitude  pickup_latitude  dropoff_longitude  \\\n",
       "count  200000.000000     200000.000000    200000.000000      199999.000000   \n",
       "mean       11.359955        -72.527638        39.935885         -72.525292   \n",
       "std         9.901776         11.437787         7.720539          13.117408   \n",
       "min       -52.000000      -1340.648410       -74.015515       -3356.666300   \n",
       "25%         6.000000        -73.992065        40.734796         -73.991407   \n",
       "50%         8.500000        -73.981823        40.752592         -73.980093   \n",
       "75%        12.500000        -73.967154        40.767158         -73.963658   \n",
       "max       499.000000         57.418457      1644.421482        1153.572603   \n",
       "\n",
       "       dropoff_latitude  passenger_count  \n",
       "count     199999.000000    200000.000000  \n",
       "mean          39.923890         1.684535  \n",
       "std            6.794829         1.385997  \n",
       "min         -881.985513         0.000000  \n",
       "25%           40.733823         1.000000  \n",
       "50%           40.753042         1.000000  \n",
       "75%           40.768001         2.000000  \n",
       "max          872.697628       208.000000  "
      ]
     },
     "execution_count": 51,
     "metadata": {},
     "output_type": "execute_result"
    }
   ],
   "source": [
    "df.describe()"
   ]
  },
  {
   "cell_type": "markdown",
   "metadata": {},
   "source": [
    "## Change Data Type"
   ]
  },
  {
   "cell_type": "code",
   "execution_count": 52,
   "metadata": {
    "ExecuteTime": {
     "end_time": "2022-05-17T03:12:55.295417Z",
     "start_time": "2022-05-17T03:12:55.064522Z"
    },
    "scrolled": true
   },
   "outputs": [
    {
     "data": {
      "text/html": [
       "<div>\n",
       "<style scoped>\n",
       "    .dataframe tbody tr th:only-of-type {\n",
       "        vertical-align: middle;\n",
       "    }\n",
       "\n",
       "    .dataframe tbody tr th {\n",
       "        vertical-align: top;\n",
       "    }\n",
       "\n",
       "    .dataframe thead th {\n",
       "        text-align: right;\n",
       "    }\n",
       "</style>\n",
       "<table border=\"1\" class=\"dataframe\">\n",
       "  <thead>\n",
       "    <tr style=\"text-align: right;\">\n",
       "      <th></th>\n",
       "      <th>fare_amount</th>\n",
       "      <th>pickup_datetime</th>\n",
       "      <th>pickup_longitude</th>\n",
       "      <th>pickup_latitude</th>\n",
       "      <th>dropoff_longitude</th>\n",
       "      <th>dropoff_latitude</th>\n",
       "      <th>passenger_count</th>\n",
       "    </tr>\n",
       "  </thead>\n",
       "  <tbody>\n",
       "    <tr>\n",
       "      <th>0</th>\n",
       "      <td>7.5</td>\n",
       "      <td>2015-05-07 19:52:06</td>\n",
       "      <td>-73.999817</td>\n",
       "      <td>40.738354</td>\n",
       "      <td>-73.999512</td>\n",
       "      <td>40.723217</td>\n",
       "      <td>1</td>\n",
       "    </tr>\n",
       "    <tr>\n",
       "      <th>1</th>\n",
       "      <td>7.7</td>\n",
       "      <td>2009-07-17 20:04:56</td>\n",
       "      <td>-73.994355</td>\n",
       "      <td>40.728225</td>\n",
       "      <td>-73.994710</td>\n",
       "      <td>40.750325</td>\n",
       "      <td>1</td>\n",
       "    </tr>\n",
       "    <tr>\n",
       "      <th>2</th>\n",
       "      <td>12.9</td>\n",
       "      <td>2009-08-24 21:45:00</td>\n",
       "      <td>-74.005043</td>\n",
       "      <td>40.740770</td>\n",
       "      <td>-73.962565</td>\n",
       "      <td>40.772647</td>\n",
       "      <td>1</td>\n",
       "    </tr>\n",
       "    <tr>\n",
       "      <th>3</th>\n",
       "      <td>5.3</td>\n",
       "      <td>2009-06-26 08:22:21</td>\n",
       "      <td>-73.976124</td>\n",
       "      <td>40.790844</td>\n",
       "      <td>-73.965316</td>\n",
       "      <td>40.803349</td>\n",
       "      <td>3</td>\n",
       "    </tr>\n",
       "    <tr>\n",
       "      <th>4</th>\n",
       "      <td>16.0</td>\n",
       "      <td>2014-08-28 17:47:00</td>\n",
       "      <td>-73.925023</td>\n",
       "      <td>40.744085</td>\n",
       "      <td>-73.973082</td>\n",
       "      <td>40.761247</td>\n",
       "      <td>5</td>\n",
       "    </tr>\n",
       "  </tbody>\n",
       "</table>\n",
       "</div>"
      ],
      "text/plain": [
       "   fare_amount     pickup_datetime  pickup_longitude  pickup_latitude  \\\n",
       "0          7.5 2015-05-07 19:52:06        -73.999817        40.738354   \n",
       "1          7.7 2009-07-17 20:04:56        -73.994355        40.728225   \n",
       "2         12.9 2009-08-24 21:45:00        -74.005043        40.740770   \n",
       "3          5.3 2009-06-26 08:22:21        -73.976124        40.790844   \n",
       "4         16.0 2014-08-28 17:47:00        -73.925023        40.744085   \n",
       "\n",
       "   dropoff_longitude  dropoff_latitude  passenger_count  \n",
       "0         -73.999512         40.723217                1  \n",
       "1         -73.994710         40.750325                1  \n",
       "2         -73.962565         40.772647                1  \n",
       "3         -73.965316         40.803349                3  \n",
       "4         -73.973082         40.761247                5  "
      ]
     },
     "execution_count": 52,
     "metadata": {},
     "output_type": "execute_result"
    }
   ],
   "source": [
    "df['pickup_datetime'] = df['pickup_datetime'].map(lambda x: x.lstrip('').rstrip(' UTC'))\n",
    "\n",
    "df[\"pickup_datetime\"]=pd.to_datetime(df[\"pickup_datetime\"])\n",
    "df.head()"
   ]
  },
  {
   "cell_type": "code",
   "execution_count": 53,
   "metadata": {
    "ExecuteTime": {
     "end_time": "2022-05-17T03:12:55.325715Z",
     "start_time": "2022-05-17T03:12:55.297385Z"
    }
   },
   "outputs": [
    {
     "name": "stdout",
     "output_type": "stream",
     "text": [
      "<class 'pandas.core.frame.DataFrame'>\n",
      "RangeIndex: 200000 entries, 0 to 199999\n",
      "Data columns (total 7 columns):\n",
      " #   Column             Non-Null Count   Dtype         \n",
      "---  ------             --------------   -----         \n",
      " 0   fare_amount        200000 non-null  float64       \n",
      " 1   pickup_datetime    200000 non-null  datetime64[ns]\n",
      " 2   pickup_longitude   200000 non-null  float64       \n",
      " 3   pickup_latitude    200000 non-null  float64       \n",
      " 4   dropoff_longitude  199999 non-null  float64       \n",
      " 5   dropoff_latitude   199999 non-null  float64       \n",
      " 6   passenger_count    200000 non-null  int64         \n",
      "dtypes: datetime64[ns](1), float64(5), int64(1)\n",
      "memory usage: 10.7 MB\n"
     ]
    }
   ],
   "source": [
    "df.info()"
   ]
  },
  {
   "cell_type": "markdown",
   "metadata": {},
   "source": [
    "# Feature Engineering"
   ]
  },
  {
   "cell_type": "markdown",
   "metadata": {},
   "source": [
    "## Missing Value"
   ]
  },
  {
   "cell_type": "code",
   "execution_count": 54,
   "metadata": {
    "ExecuteTime": {
     "end_time": "2022-05-17T03:12:55.357097Z",
     "start_time": "2022-05-17T03:12:55.328481Z"
    }
   },
   "outputs": [
    {
     "data": {
      "text/plain": [
       "fare_amount          0\n",
       "pickup_datetime      0\n",
       "pickup_longitude     0\n",
       "pickup_latitude      0\n",
       "dropoff_longitude    1\n",
       "dropoff_latitude     1\n",
       "passenger_count      0\n",
       "dtype: int64"
      ]
     },
     "execution_count": 54,
     "metadata": {},
     "output_type": "execute_result"
    }
   ],
   "source": [
    "df.isna().sum()"
   ]
  },
  {
   "cell_type": "code",
   "execution_count": 55,
   "metadata": {
    "ExecuteTime": {
     "end_time": "2022-05-17T03:12:55.403229Z",
     "start_time": "2022-05-17T03:12:55.360055Z"
    }
   },
   "outputs": [
    {
     "name": "stdout",
     "output_type": "stream",
     "text": [
      "<class 'pandas.core.frame.DataFrame'>\n",
      "Int64Index: 199999 entries, 0 to 199999\n",
      "Data columns (total 7 columns):\n",
      " #   Column             Non-Null Count   Dtype         \n",
      "---  ------             --------------   -----         \n",
      " 0   fare_amount        199999 non-null  float64       \n",
      " 1   pickup_datetime    199999 non-null  datetime64[ns]\n",
      " 2   pickup_longitude   199999 non-null  float64       \n",
      " 3   pickup_latitude    199999 non-null  float64       \n",
      " 4   dropoff_longitude  199999 non-null  float64       \n",
      " 5   dropoff_latitude   199999 non-null  float64       \n",
      " 6   passenger_count    199999 non-null  int64         \n",
      "dtypes: datetime64[ns](1), float64(5), int64(1)\n",
      "memory usage: 12.2 MB\n"
     ]
    }
   ],
   "source": [
    "df = df.dropna()\n",
    "df.info()"
   ]
  },
  {
   "cell_type": "markdown",
   "metadata": {},
   "source": [
    "## Extract Date Feature"
   ]
  },
  {
   "cell_type": "code",
   "execution_count": 56,
   "metadata": {
    "ExecuteTime": {
     "end_time": "2022-05-17T03:12:55.496392Z",
     "start_time": "2022-05-17T03:12:55.407561Z"
    },
    "scrolled": false
   },
   "outputs": [
    {
     "data": {
      "text/html": [
       "<div>\n",
       "<style scoped>\n",
       "    .dataframe tbody tr th:only-of-type {\n",
       "        vertical-align: middle;\n",
       "    }\n",
       "\n",
       "    .dataframe tbody tr th {\n",
       "        vertical-align: top;\n",
       "    }\n",
       "\n",
       "    .dataframe thead th {\n",
       "        text-align: right;\n",
       "    }\n",
       "</style>\n",
       "<table border=\"1\" class=\"dataframe\">\n",
       "  <thead>\n",
       "    <tr style=\"text-align: right;\">\n",
       "      <th></th>\n",
       "      <th>fare_amount</th>\n",
       "      <th>pickup_datetime</th>\n",
       "      <th>pickup_longitude</th>\n",
       "      <th>pickup_latitude</th>\n",
       "      <th>dropoff_longitude</th>\n",
       "      <th>dropoff_latitude</th>\n",
       "      <th>passenger_count</th>\n",
       "      <th>year</th>\n",
       "      <th>month</th>\n",
       "      <th>day</th>\n",
       "      <th>hour</th>\n",
       "      <th>minute</th>\n",
       "    </tr>\n",
       "  </thead>\n",
       "  <tbody>\n",
       "    <tr>\n",
       "      <th>0</th>\n",
       "      <td>7.5</td>\n",
       "      <td>2015-05-07 19:52:06</td>\n",
       "      <td>-73.999817</td>\n",
       "      <td>40.738354</td>\n",
       "      <td>-73.999512</td>\n",
       "      <td>40.723217</td>\n",
       "      <td>1</td>\n",
       "      <td>2015</td>\n",
       "      <td>5</td>\n",
       "      <td>7</td>\n",
       "      <td>19</td>\n",
       "      <td>52</td>\n",
       "    </tr>\n",
       "    <tr>\n",
       "      <th>1</th>\n",
       "      <td>7.7</td>\n",
       "      <td>2009-07-17 20:04:56</td>\n",
       "      <td>-73.994355</td>\n",
       "      <td>40.728225</td>\n",
       "      <td>-73.994710</td>\n",
       "      <td>40.750325</td>\n",
       "      <td>1</td>\n",
       "      <td>2009</td>\n",
       "      <td>7</td>\n",
       "      <td>17</td>\n",
       "      <td>20</td>\n",
       "      <td>4</td>\n",
       "    </tr>\n",
       "    <tr>\n",
       "      <th>2</th>\n",
       "      <td>12.9</td>\n",
       "      <td>2009-08-24 21:45:00</td>\n",
       "      <td>-74.005043</td>\n",
       "      <td>40.740770</td>\n",
       "      <td>-73.962565</td>\n",
       "      <td>40.772647</td>\n",
       "      <td>1</td>\n",
       "      <td>2009</td>\n",
       "      <td>8</td>\n",
       "      <td>24</td>\n",
       "      <td>21</td>\n",
       "      <td>45</td>\n",
       "    </tr>\n",
       "    <tr>\n",
       "      <th>3</th>\n",
       "      <td>5.3</td>\n",
       "      <td>2009-06-26 08:22:21</td>\n",
       "      <td>-73.976124</td>\n",
       "      <td>40.790844</td>\n",
       "      <td>-73.965316</td>\n",
       "      <td>40.803349</td>\n",
       "      <td>3</td>\n",
       "      <td>2009</td>\n",
       "      <td>6</td>\n",
       "      <td>26</td>\n",
       "      <td>8</td>\n",
       "      <td>22</td>\n",
       "    </tr>\n",
       "    <tr>\n",
       "      <th>4</th>\n",
       "      <td>16.0</td>\n",
       "      <td>2014-08-28 17:47:00</td>\n",
       "      <td>-73.925023</td>\n",
       "      <td>40.744085</td>\n",
       "      <td>-73.973082</td>\n",
       "      <td>40.761247</td>\n",
       "      <td>5</td>\n",
       "      <td>2014</td>\n",
       "      <td>8</td>\n",
       "      <td>28</td>\n",
       "      <td>17</td>\n",
       "      <td>47</td>\n",
       "    </tr>\n",
       "  </tbody>\n",
       "</table>\n",
       "</div>"
      ],
      "text/plain": [
       "   fare_amount     pickup_datetime  pickup_longitude  pickup_latitude  \\\n",
       "0          7.5 2015-05-07 19:52:06        -73.999817        40.738354   \n",
       "1          7.7 2009-07-17 20:04:56        -73.994355        40.728225   \n",
       "2         12.9 2009-08-24 21:45:00        -74.005043        40.740770   \n",
       "3          5.3 2009-06-26 08:22:21        -73.976124        40.790844   \n",
       "4         16.0 2014-08-28 17:47:00        -73.925023        40.744085   \n",
       "\n",
       "   dropoff_longitude  dropoff_latitude  passenger_count  year  month  day  \\\n",
       "0         -73.999512         40.723217                1  2015      5    7   \n",
       "1         -73.994710         40.750325                1  2009      7   17   \n",
       "2         -73.962565         40.772647                1  2009      8   24   \n",
       "3         -73.965316         40.803349                3  2009      6   26   \n",
       "4         -73.973082         40.761247                5  2014      8   28   \n",
       "\n",
       "   hour  minute  \n",
       "0    19      52  \n",
       "1    20       4  \n",
       "2    21      45  \n",
       "3     8      22  \n",
       "4    17      47  "
      ]
     },
     "execution_count": 56,
     "metadata": {},
     "output_type": "execute_result"
    }
   ],
   "source": [
    "df[\"year\"]=df[\"pickup_datetime\"].dt.year\n",
    "df[\"month\"]=df[\"pickup_datetime\"].dt.month\n",
    "df[\"day\"]=df[\"pickup_datetime\"].dt.day\n",
    "df[\"hour\"]=df[\"pickup_datetime\"].dt.hour\n",
    "df[\"minute\"]=df[\"pickup_datetime\"].dt.minute\n",
    "\n",
    "df.head()"
   ]
  },
  {
   "cell_type": "markdown",
   "metadata": {},
   "source": [
    "## Extract Weekend Variable"
   ]
  },
  {
   "cell_type": "code",
   "execution_count": 57,
   "metadata": {
    "ExecuteTime": {
     "end_time": "2022-05-17T03:12:58.139736Z",
     "start_time": "2022-05-17T03:12:55.500521Z"
    }
   },
   "outputs": [
    {
     "data": {
      "text/html": [
       "<div>\n",
       "<style scoped>\n",
       "    .dataframe tbody tr th:only-of-type {\n",
       "        vertical-align: middle;\n",
       "    }\n",
       "\n",
       "    .dataframe tbody tr th {\n",
       "        vertical-align: top;\n",
       "    }\n",
       "\n",
       "    .dataframe thead th {\n",
       "        text-align: right;\n",
       "    }\n",
       "</style>\n",
       "<table border=\"1\" class=\"dataframe\">\n",
       "  <thead>\n",
       "    <tr style=\"text-align: right;\">\n",
       "      <th></th>\n",
       "      <th>fare_amount</th>\n",
       "      <th>pickup_datetime</th>\n",
       "      <th>pickup_longitude</th>\n",
       "      <th>pickup_latitude</th>\n",
       "      <th>dropoff_longitude</th>\n",
       "      <th>dropoff_latitude</th>\n",
       "      <th>passenger_count</th>\n",
       "      <th>year</th>\n",
       "      <th>month</th>\n",
       "      <th>day</th>\n",
       "      <th>hour</th>\n",
       "      <th>minute</th>\n",
       "      <th>day_name</th>\n",
       "      <th>is_weekend</th>\n",
       "    </tr>\n",
       "  </thead>\n",
       "  <tbody>\n",
       "    <tr>\n",
       "      <th>0</th>\n",
       "      <td>7.5</td>\n",
       "      <td>2015-05-07 19:52:06</td>\n",
       "      <td>-73.999817</td>\n",
       "      <td>40.738354</td>\n",
       "      <td>-73.999512</td>\n",
       "      <td>40.723217</td>\n",
       "      <td>1</td>\n",
       "      <td>2015</td>\n",
       "      <td>5</td>\n",
       "      <td>7</td>\n",
       "      <td>19</td>\n",
       "      <td>52</td>\n",
       "      <td>3</td>\n",
       "      <td>0</td>\n",
       "    </tr>\n",
       "    <tr>\n",
       "      <th>1</th>\n",
       "      <td>7.7</td>\n",
       "      <td>2009-07-17 20:04:56</td>\n",
       "      <td>-73.994355</td>\n",
       "      <td>40.728225</td>\n",
       "      <td>-73.994710</td>\n",
       "      <td>40.750325</td>\n",
       "      <td>1</td>\n",
       "      <td>2009</td>\n",
       "      <td>7</td>\n",
       "      <td>17</td>\n",
       "      <td>20</td>\n",
       "      <td>4</td>\n",
       "      <td>4</td>\n",
       "      <td>0</td>\n",
       "    </tr>\n",
       "    <tr>\n",
       "      <th>2</th>\n",
       "      <td>12.9</td>\n",
       "      <td>2009-08-24 21:45:00</td>\n",
       "      <td>-74.005043</td>\n",
       "      <td>40.740770</td>\n",
       "      <td>-73.962565</td>\n",
       "      <td>40.772647</td>\n",
       "      <td>1</td>\n",
       "      <td>2009</td>\n",
       "      <td>8</td>\n",
       "      <td>24</td>\n",
       "      <td>21</td>\n",
       "      <td>45</td>\n",
       "      <td>0</td>\n",
       "      <td>0</td>\n",
       "    </tr>\n",
       "    <tr>\n",
       "      <th>3</th>\n",
       "      <td>5.3</td>\n",
       "      <td>2009-06-26 08:22:21</td>\n",
       "      <td>-73.976124</td>\n",
       "      <td>40.790844</td>\n",
       "      <td>-73.965316</td>\n",
       "      <td>40.803349</td>\n",
       "      <td>3</td>\n",
       "      <td>2009</td>\n",
       "      <td>6</td>\n",
       "      <td>26</td>\n",
       "      <td>8</td>\n",
       "      <td>22</td>\n",
       "      <td>4</td>\n",
       "      <td>0</td>\n",
       "    </tr>\n",
       "    <tr>\n",
       "      <th>4</th>\n",
       "      <td>16.0</td>\n",
       "      <td>2014-08-28 17:47:00</td>\n",
       "      <td>-73.925023</td>\n",
       "      <td>40.744085</td>\n",
       "      <td>-73.973082</td>\n",
       "      <td>40.761247</td>\n",
       "      <td>5</td>\n",
       "      <td>2014</td>\n",
       "      <td>8</td>\n",
       "      <td>28</td>\n",
       "      <td>17</td>\n",
       "      <td>47</td>\n",
       "      <td>3</td>\n",
       "      <td>0</td>\n",
       "    </tr>\n",
       "  </tbody>\n",
       "</table>\n",
       "</div>"
      ],
      "text/plain": [
       "   fare_amount     pickup_datetime  pickup_longitude  pickup_latitude  \\\n",
       "0          7.5 2015-05-07 19:52:06        -73.999817        40.738354   \n",
       "1          7.7 2009-07-17 20:04:56        -73.994355        40.728225   \n",
       "2         12.9 2009-08-24 21:45:00        -74.005043        40.740770   \n",
       "3          5.3 2009-06-26 08:22:21        -73.976124        40.790844   \n",
       "4         16.0 2014-08-28 17:47:00        -73.925023        40.744085   \n",
       "\n",
       "   dropoff_longitude  dropoff_latitude  passenger_count  year  month  day  \\\n",
       "0         -73.999512         40.723217                1  2015      5    7   \n",
       "1         -73.994710         40.750325                1  2009      7   17   \n",
       "2         -73.962565         40.772647                1  2009      8   24   \n",
       "3         -73.965316         40.803349                3  2009      6   26   \n",
       "4         -73.973082         40.761247                5  2014      8   28   \n",
       "\n",
       "   hour  minute  day_name  is_weekend  \n",
       "0    19      52         3           0  \n",
       "1    20       4         4           0  \n",
       "2    21      45         0           0  \n",
       "3     8      22         4           0  \n",
       "4    17      47         3           0  "
      ]
     },
     "execution_count": 57,
     "metadata": {},
     "output_type": "execute_result"
    }
   ],
   "source": [
    "is_weekend = []\n",
    "for i in range(0,len(df[\"pickup_datetime\"])):\n",
    "    is_weekend.append(df[\"pickup_datetime\"].iloc[i].weekday())\n",
    "df[\"day_name\"] = is_weekend\n",
    "\n",
    "df[\"is_weekend\"] = np.where(df[\"day_name\"]<5,0,1)\n",
    "\n",
    "df.head()"
   ]
  },
  {
   "cell_type": "markdown",
   "metadata": {},
   "source": [
    "## Extract Week Variable"
   ]
  },
  {
   "cell_type": "code",
   "execution_count": 58,
   "metadata": {
    "ExecuteTime": {
     "end_time": "2022-05-17T03:13:02.339769Z",
     "start_time": "2022-05-17T03:12:58.141750Z"
    }
   },
   "outputs": [
    {
     "data": {
      "text/html": [
       "<div>\n",
       "<style scoped>\n",
       "    .dataframe tbody tr th:only-of-type {\n",
       "        vertical-align: middle;\n",
       "    }\n",
       "\n",
       "    .dataframe tbody tr th {\n",
       "        vertical-align: top;\n",
       "    }\n",
       "\n",
       "    .dataframe thead th {\n",
       "        text-align: right;\n",
       "    }\n",
       "</style>\n",
       "<table border=\"1\" class=\"dataframe\">\n",
       "  <thead>\n",
       "    <tr style=\"text-align: right;\">\n",
       "      <th></th>\n",
       "      <th>fare_amount</th>\n",
       "      <th>pickup_datetime</th>\n",
       "      <th>pickup_longitude</th>\n",
       "      <th>pickup_latitude</th>\n",
       "      <th>dropoff_longitude</th>\n",
       "      <th>dropoff_latitude</th>\n",
       "      <th>passenger_count</th>\n",
       "      <th>year</th>\n",
       "      <th>month</th>\n",
       "      <th>day</th>\n",
       "      <th>hour</th>\n",
       "      <th>minute</th>\n",
       "      <th>day_name</th>\n",
       "      <th>is_weekend</th>\n",
       "      <th>week</th>\n",
       "    </tr>\n",
       "  </thead>\n",
       "  <tbody>\n",
       "    <tr>\n",
       "      <th>0</th>\n",
       "      <td>7.5</td>\n",
       "      <td>2015-05-07 19:52:06</td>\n",
       "      <td>-73.999817</td>\n",
       "      <td>40.738354</td>\n",
       "      <td>-73.999512</td>\n",
       "      <td>40.723217</td>\n",
       "      <td>1</td>\n",
       "      <td>2015</td>\n",
       "      <td>5</td>\n",
       "      <td>7</td>\n",
       "      <td>19</td>\n",
       "      <td>52</td>\n",
       "      <td>3</td>\n",
       "      <td>0</td>\n",
       "      <td>1</td>\n",
       "    </tr>\n",
       "    <tr>\n",
       "      <th>1</th>\n",
       "      <td>7.7</td>\n",
       "      <td>2009-07-17 20:04:56</td>\n",
       "      <td>-73.994355</td>\n",
       "      <td>40.728225</td>\n",
       "      <td>-73.994710</td>\n",
       "      <td>40.750325</td>\n",
       "      <td>1</td>\n",
       "      <td>2009</td>\n",
       "      <td>7</td>\n",
       "      <td>17</td>\n",
       "      <td>20</td>\n",
       "      <td>4</td>\n",
       "      <td>4</td>\n",
       "      <td>0</td>\n",
       "      <td>3</td>\n",
       "    </tr>\n",
       "    <tr>\n",
       "      <th>2</th>\n",
       "      <td>12.9</td>\n",
       "      <td>2009-08-24 21:45:00</td>\n",
       "      <td>-74.005043</td>\n",
       "      <td>40.740770</td>\n",
       "      <td>-73.962565</td>\n",
       "      <td>40.772647</td>\n",
       "      <td>1</td>\n",
       "      <td>2009</td>\n",
       "      <td>8</td>\n",
       "      <td>24</td>\n",
       "      <td>21</td>\n",
       "      <td>45</td>\n",
       "      <td>0</td>\n",
       "      <td>0</td>\n",
       "      <td>4</td>\n",
       "    </tr>\n",
       "    <tr>\n",
       "      <th>3</th>\n",
       "      <td>5.3</td>\n",
       "      <td>2009-06-26 08:22:21</td>\n",
       "      <td>-73.976124</td>\n",
       "      <td>40.790844</td>\n",
       "      <td>-73.965316</td>\n",
       "      <td>40.803349</td>\n",
       "      <td>3</td>\n",
       "      <td>2009</td>\n",
       "      <td>6</td>\n",
       "      <td>26</td>\n",
       "      <td>8</td>\n",
       "      <td>22</td>\n",
       "      <td>4</td>\n",
       "      <td>0</td>\n",
       "      <td>4</td>\n",
       "    </tr>\n",
       "    <tr>\n",
       "      <th>4</th>\n",
       "      <td>16.0</td>\n",
       "      <td>2014-08-28 17:47:00</td>\n",
       "      <td>-73.925023</td>\n",
       "      <td>40.744085</td>\n",
       "      <td>-73.973082</td>\n",
       "      <td>40.761247</td>\n",
       "      <td>5</td>\n",
       "      <td>2014</td>\n",
       "      <td>8</td>\n",
       "      <td>28</td>\n",
       "      <td>17</td>\n",
       "      <td>47</td>\n",
       "      <td>3</td>\n",
       "      <td>0</td>\n",
       "      <td>4</td>\n",
       "    </tr>\n",
       "  </tbody>\n",
       "</table>\n",
       "</div>"
      ],
      "text/plain": [
       "   fare_amount     pickup_datetime  pickup_longitude  pickup_latitude  \\\n",
       "0          7.5 2015-05-07 19:52:06        -73.999817        40.738354   \n",
       "1          7.7 2009-07-17 20:04:56        -73.994355        40.728225   \n",
       "2         12.9 2009-08-24 21:45:00        -74.005043        40.740770   \n",
       "3          5.3 2009-06-26 08:22:21        -73.976124        40.790844   \n",
       "4         16.0 2014-08-28 17:47:00        -73.925023        40.744085   \n",
       "\n",
       "   dropoff_longitude  dropoff_latitude  passenger_count  year  month  day  \\\n",
       "0         -73.999512         40.723217                1  2015      5    7   \n",
       "1         -73.994710         40.750325                1  2009      7   17   \n",
       "2         -73.962565         40.772647                1  2009      8   24   \n",
       "3         -73.965316         40.803349                3  2009      6   26   \n",
       "4         -73.973082         40.761247                5  2014      8   28   \n",
       "\n",
       "   hour  minute  day_name  is_weekend  week  \n",
       "0    19      52         3           0     1  \n",
       "1    20       4         4           0     3  \n",
       "2    21      45         0           0     4  \n",
       "3     8      22         4           0     4  \n",
       "4    17      47         3           0     4  "
      ]
     },
     "execution_count": 58,
     "metadata": {},
     "output_type": "execute_result"
    }
   ],
   "source": [
    "week_list = []\n",
    "\n",
    "for i in range(0,(len(df))):\n",
    "    if df[\"day\"].iloc[i]<=7:\n",
    "        week_list.append(1)\n",
    "    elif df[\"day\"].iloc[i]<=14:\n",
    "        week_list.append(2)\n",
    "    elif df[\"day\"].iloc[i]<=21:\n",
    "        week_list.append(3)\n",
    "    elif df[\"day\"].iloc[i]>21:\n",
    "        week_list.append(4)\n",
    "\n",
    "df[\"week\"] = week_list\n",
    "df.head()"
   ]
  },
  {
   "cell_type": "markdown",
   "metadata": {},
   "source": [
    "## Identify Latitude Feature"
   ]
  },
  {
   "cell_type": "code",
   "execution_count": 59,
   "metadata": {
    "ExecuteTime": {
     "end_time": "2022-05-17T03:13:02.370337Z",
     "start_time": "2022-05-17T03:13:02.341185Z"
    }
   },
   "outputs": [
    {
     "data": {
      "text/html": [
       "<div>\n",
       "<style scoped>\n",
       "    .dataframe tbody tr th:only-of-type {\n",
       "        vertical-align: middle;\n",
       "    }\n",
       "\n",
       "    .dataframe tbody tr th {\n",
       "        vertical-align: top;\n",
       "    }\n",
       "\n",
       "    .dataframe thead th {\n",
       "        text-align: right;\n",
       "    }\n",
       "</style>\n",
       "<table border=\"1\" class=\"dataframe\">\n",
       "  <thead>\n",
       "    <tr style=\"text-align: right;\">\n",
       "      <th></th>\n",
       "      <th>fare_amount</th>\n",
       "      <th>pickup_datetime</th>\n",
       "      <th>pickup_longitude</th>\n",
       "      <th>pickup_latitude</th>\n",
       "      <th>dropoff_longitude</th>\n",
       "      <th>dropoff_latitude</th>\n",
       "      <th>passenger_count</th>\n",
       "      <th>year</th>\n",
       "      <th>month</th>\n",
       "      <th>day</th>\n",
       "      <th>hour</th>\n",
       "      <th>minute</th>\n",
       "      <th>day_name</th>\n",
       "      <th>is_weekend</th>\n",
       "      <th>week</th>\n",
       "    </tr>\n",
       "  </thead>\n",
       "  <tbody>\n",
       "    <tr>\n",
       "      <th>56617</th>\n",
       "      <td>8.1</td>\n",
       "      <td>2012-03-11 07:24:00</td>\n",
       "      <td>-73.960828</td>\n",
       "      <td>404.433332</td>\n",
       "      <td>-73.988357</td>\n",
       "      <td>40.769037</td>\n",
       "      <td>1</td>\n",
       "      <td>2012</td>\n",
       "      <td>3</td>\n",
       "      <td>11</td>\n",
       "      <td>7</td>\n",
       "      <td>24</td>\n",
       "      <td>6</td>\n",
       "      <td>1</td>\n",
       "      <td>2</td>\n",
       "    </tr>\n",
       "    <tr>\n",
       "      <th>61793</th>\n",
       "      <td>8.5</td>\n",
       "      <td>2012-06-13 05:45:00</td>\n",
       "      <td>-73.951385</td>\n",
       "      <td>401.066667</td>\n",
       "      <td>-73.982110</td>\n",
       "      <td>40.754117</td>\n",
       "      <td>1</td>\n",
       "      <td>2012</td>\n",
       "      <td>6</td>\n",
       "      <td>13</td>\n",
       "      <td>5</td>\n",
       "      <td>45</td>\n",
       "      <td>2</td>\n",
       "      <td>0</td>\n",
       "      <td>2</td>\n",
       "    </tr>\n",
       "    <tr>\n",
       "      <th>75851</th>\n",
       "      <td>15.7</td>\n",
       "      <td>2011-11-05 00:22:00</td>\n",
       "      <td>-1340.648410</td>\n",
       "      <td>1644.421482</td>\n",
       "      <td>-3356.666300</td>\n",
       "      <td>872.697628</td>\n",
       "      <td>1</td>\n",
       "      <td>2011</td>\n",
       "      <td>11</td>\n",
       "      <td>5</td>\n",
       "      <td>0</td>\n",
       "      <td>22</td>\n",
       "      <td>5</td>\n",
       "      <td>1</td>\n",
       "      <td>1</td>\n",
       "    </tr>\n",
       "    <tr>\n",
       "      <th>91422</th>\n",
       "      <td>16.1</td>\n",
       "      <td>2011-05-18 13:24:00</td>\n",
       "      <td>57.418457</td>\n",
       "      <td>1292.016128</td>\n",
       "      <td>1153.572603</td>\n",
       "      <td>-881.985513</td>\n",
       "      <td>1</td>\n",
       "      <td>2011</td>\n",
       "      <td>5</td>\n",
       "      <td>18</td>\n",
       "      <td>13</td>\n",
       "      <td>24</td>\n",
       "      <td>2</td>\n",
       "      <td>0</td>\n",
       "      <td>3</td>\n",
       "    </tr>\n",
       "    <tr>\n",
       "      <th>139447</th>\n",
       "      <td>13.7</td>\n",
       "      <td>2012-01-20 11:50:00</td>\n",
       "      <td>-74.011042</td>\n",
       "      <td>40.709780</td>\n",
       "      <td>-73.983163</td>\n",
       "      <td>493.533332</td>\n",
       "      <td>4</td>\n",
       "      <td>2012</td>\n",
       "      <td>1</td>\n",
       "      <td>20</td>\n",
       "      <td>11</td>\n",
       "      <td>50</td>\n",
       "      <td>4</td>\n",
       "      <td>0</td>\n",
       "      <td>3</td>\n",
       "    </tr>\n",
       "  </tbody>\n",
       "</table>\n",
       "</div>"
      ],
      "text/plain": [
       "        fare_amount     pickup_datetime  pickup_longitude  pickup_latitude  \\\n",
       "56617           8.1 2012-03-11 07:24:00        -73.960828       404.433332   \n",
       "61793           8.5 2012-06-13 05:45:00        -73.951385       401.066667   \n",
       "75851          15.7 2011-11-05 00:22:00      -1340.648410      1644.421482   \n",
       "91422          16.1 2011-05-18 13:24:00         57.418457      1292.016128   \n",
       "139447         13.7 2012-01-20 11:50:00        -74.011042        40.709780   \n",
       "\n",
       "        dropoff_longitude  dropoff_latitude  passenger_count  year  month  \\\n",
       "56617          -73.988357         40.769037                1  2012      3   \n",
       "61793          -73.982110         40.754117                1  2012      6   \n",
       "75851        -3356.666300        872.697628                1  2011     11   \n",
       "91422         1153.572603       -881.985513                1  2011      5   \n",
       "139447         -73.983163        493.533332                4  2012      1   \n",
       "\n",
       "        day  hour  minute  day_name  is_weekend  week  \n",
       "56617    11     7      24         6           1     2  \n",
       "61793    13     5      45         2           0     2  \n",
       "75851     5     0      22         5           1     1  \n",
       "91422    18    13      24         2           0     3  \n",
       "139447   20    11      50         4           0     3  "
      ]
     },
     "execution_count": 59,
     "metadata": {},
     "output_type": "execute_result"
    }
   ],
   "source": [
    "df[(df[\"pickup_latitude\"]>90) | (df[\"dropoff_latitude\"]>90)]"
   ]
  },
  {
   "cell_type": "code",
   "execution_count": 60,
   "metadata": {
    "ExecuteTime": {
     "end_time": "2022-05-17T03:13:02.417415Z",
     "start_time": "2022-05-17T03:13:02.373632Z"
    }
   },
   "outputs": [],
   "source": [
    "lat90 = list(df[(df[\"pickup_latitude\"]>90) | (df[\"dropoff_latitude\"]>90)].index)\n",
    "df.drop(lat90,inplace = True)"
   ]
  },
  {
   "cell_type": "markdown",
   "metadata": {},
   "source": [
    "## Extract Distance Variable"
   ]
  },
  {
   "cell_type": "code",
   "execution_count": 61,
   "metadata": {
    "ExecuteTime": {
     "end_time": "2022-05-17T03:13:52.538912Z",
     "start_time": "2022-05-17T03:13:02.419529Z"
    }
   },
   "outputs": [],
   "source": [
    "distance=[]\n",
    "\n",
    "for i in range(0,(len(df))):\n",
    "    dist = geopy.distance.geodesic((df[\"pickup_latitude\"].iloc[i],df[\"pickup_longitude\"].iloc[i]), (df[\"dropoff_latitude\"].iloc[i],df[\"dropoff_longitude\"].iloc[i])).km\n",
    "    distance.append(round(dist,2))"
   ]
  },
  {
   "cell_type": "code",
   "execution_count": 62,
   "metadata": {
    "ExecuteTime": {
     "end_time": "2022-05-17T03:13:52.569817Z",
     "start_time": "2022-05-17T03:13:52.540636Z"
    }
   },
   "outputs": [],
   "source": [
    "df[\"distance\"]=distance"
   ]
  },
  {
   "cell_type": "code",
   "execution_count": 63,
   "metadata": {
    "ExecuteTime": {
     "end_time": "2022-05-17T03:13:52.600597Z",
     "start_time": "2022-05-17T03:13:52.573207Z"
    },
    "scrolled": true
   },
   "outputs": [
    {
     "data": {
      "text/html": [
       "<div>\n",
       "<style scoped>\n",
       "    .dataframe tbody tr th:only-of-type {\n",
       "        vertical-align: middle;\n",
       "    }\n",
       "\n",
       "    .dataframe tbody tr th {\n",
       "        vertical-align: top;\n",
       "    }\n",
       "\n",
       "    .dataframe thead th {\n",
       "        text-align: right;\n",
       "    }\n",
       "</style>\n",
       "<table border=\"1\" class=\"dataframe\">\n",
       "  <thead>\n",
       "    <tr style=\"text-align: right;\">\n",
       "      <th></th>\n",
       "      <th>fare_amount</th>\n",
       "      <th>pickup_datetime</th>\n",
       "      <th>pickup_longitude</th>\n",
       "      <th>pickup_latitude</th>\n",
       "      <th>dropoff_longitude</th>\n",
       "      <th>dropoff_latitude</th>\n",
       "      <th>passenger_count</th>\n",
       "      <th>year</th>\n",
       "      <th>month</th>\n",
       "      <th>day</th>\n",
       "      <th>hour</th>\n",
       "      <th>minute</th>\n",
       "      <th>day_name</th>\n",
       "      <th>is_weekend</th>\n",
       "      <th>week</th>\n",
       "      <th>distance</th>\n",
       "    </tr>\n",
       "  </thead>\n",
       "  <tbody>\n",
       "    <tr>\n",
       "      <th>0</th>\n",
       "      <td>7.5</td>\n",
       "      <td>2015-05-07 19:52:06</td>\n",
       "      <td>-73.999817</td>\n",
       "      <td>40.738354</td>\n",
       "      <td>-73.999512</td>\n",
       "      <td>40.723217</td>\n",
       "      <td>1</td>\n",
       "      <td>2015</td>\n",
       "      <td>5</td>\n",
       "      <td>7</td>\n",
       "      <td>19</td>\n",
       "      <td>52</td>\n",
       "      <td>3</td>\n",
       "      <td>0</td>\n",
       "      <td>1</td>\n",
       "      <td>1.68</td>\n",
       "    </tr>\n",
       "    <tr>\n",
       "      <th>1</th>\n",
       "      <td>7.7</td>\n",
       "      <td>2009-07-17 20:04:56</td>\n",
       "      <td>-73.994355</td>\n",
       "      <td>40.728225</td>\n",
       "      <td>-73.994710</td>\n",
       "      <td>40.750325</td>\n",
       "      <td>1</td>\n",
       "      <td>2009</td>\n",
       "      <td>7</td>\n",
       "      <td>17</td>\n",
       "      <td>20</td>\n",
       "      <td>4</td>\n",
       "      <td>4</td>\n",
       "      <td>0</td>\n",
       "      <td>3</td>\n",
       "      <td>2.45</td>\n",
       "    </tr>\n",
       "    <tr>\n",
       "      <th>2</th>\n",
       "      <td>12.9</td>\n",
       "      <td>2009-08-24 21:45:00</td>\n",
       "      <td>-74.005043</td>\n",
       "      <td>40.740770</td>\n",
       "      <td>-73.962565</td>\n",
       "      <td>40.772647</td>\n",
       "      <td>1</td>\n",
       "      <td>2009</td>\n",
       "      <td>8</td>\n",
       "      <td>24</td>\n",
       "      <td>21</td>\n",
       "      <td>45</td>\n",
       "      <td>0</td>\n",
       "      <td>0</td>\n",
       "      <td>4</td>\n",
       "      <td>5.04</td>\n",
       "    </tr>\n",
       "    <tr>\n",
       "      <th>3</th>\n",
       "      <td>5.3</td>\n",
       "      <td>2009-06-26 08:22:21</td>\n",
       "      <td>-73.976124</td>\n",
       "      <td>40.790844</td>\n",
       "      <td>-73.965316</td>\n",
       "      <td>40.803349</td>\n",
       "      <td>3</td>\n",
       "      <td>2009</td>\n",
       "      <td>6</td>\n",
       "      <td>26</td>\n",
       "      <td>8</td>\n",
       "      <td>22</td>\n",
       "      <td>4</td>\n",
       "      <td>0</td>\n",
       "      <td>4</td>\n",
       "      <td>1.66</td>\n",
       "    </tr>\n",
       "    <tr>\n",
       "      <th>4</th>\n",
       "      <td>16.0</td>\n",
       "      <td>2014-08-28 17:47:00</td>\n",
       "      <td>-73.925023</td>\n",
       "      <td>40.744085</td>\n",
       "      <td>-73.973082</td>\n",
       "      <td>40.761247</td>\n",
       "      <td>5</td>\n",
       "      <td>2014</td>\n",
       "      <td>8</td>\n",
       "      <td>28</td>\n",
       "      <td>17</td>\n",
       "      <td>47</td>\n",
       "      <td>3</td>\n",
       "      <td>0</td>\n",
       "      <td>4</td>\n",
       "      <td>4.48</td>\n",
       "    </tr>\n",
       "  </tbody>\n",
       "</table>\n",
       "</div>"
      ],
      "text/plain": [
       "   fare_amount     pickup_datetime  pickup_longitude  pickup_latitude  \\\n",
       "0          7.5 2015-05-07 19:52:06        -73.999817        40.738354   \n",
       "1          7.7 2009-07-17 20:04:56        -73.994355        40.728225   \n",
       "2         12.9 2009-08-24 21:45:00        -74.005043        40.740770   \n",
       "3          5.3 2009-06-26 08:22:21        -73.976124        40.790844   \n",
       "4         16.0 2014-08-28 17:47:00        -73.925023        40.744085   \n",
       "\n",
       "   dropoff_longitude  dropoff_latitude  passenger_count  year  month  day  \\\n",
       "0         -73.999512         40.723217                1  2015      5    7   \n",
       "1         -73.994710         40.750325                1  2009      7   17   \n",
       "2         -73.962565         40.772647                1  2009      8   24   \n",
       "3         -73.965316         40.803349                3  2009      6   26   \n",
       "4         -73.973082         40.761247                5  2014      8   28   \n",
       "\n",
       "   hour  minute  day_name  is_weekend  week  distance  \n",
       "0    19      52         3           0     1      1.68  \n",
       "1    20       4         4           0     3      2.45  \n",
       "2    21      45         0           0     4      5.04  \n",
       "3     8      22         4           0     4      1.66  \n",
       "4    17      47         3           0     4      4.48  "
      ]
     },
     "execution_count": 63,
     "metadata": {},
     "output_type": "execute_result"
    }
   ],
   "source": [
    "df.head()"
   ]
  },
  {
   "cell_type": "markdown",
   "metadata": {},
   "source": [
    "\n",
    "## Import Dataframe to CSV"
   ]
  },
  {
   "cell_type": "code",
   "execution_count": 64,
   "metadata": {
    "ExecuteTime": {
     "end_time": "2022-05-17T03:13:54.665739Z",
     "start_time": "2022-05-17T03:13:52.602925Z"
    }
   },
   "outputs": [],
   "source": [
    "df.to_csv(r'C:\\Users\\juan.suwardi\\Documents\\Personal Project\\Deep Learning\\Regression\\Uber Fare\\Dataset_uber.csv')"
   ]
  },
  {
   "cell_type": "markdown",
   "metadata": {},
   "source": [
    "# Exploratory Data Analysis (EDA)"
   ]
  },
  {
   "cell_type": "markdown",
   "metadata": {},
   "source": [
    "## Data Distribution"
   ]
  },
  {
   "cell_type": "code",
   "execution_count": 18,
   "metadata": {
    "ExecuteTime": {
     "end_time": "2022-05-13T07:23:18.864274Z",
     "start_time": "2022-05-13T07:23:12.447397Z"
    }
   },
   "outputs": [
    {
     "data": {
      "image/png": "[encoded data removed]",
      "text/plain": [
       "<Figure size 1008x432 with 3 Axes>"
      ]
     },
     "metadata": {
      "needs_background": "light"
     },
     "output_type": "display_data"
    }
   ],
   "source": [
    "num = [\"fare_amount\",\"distance\",\"passenger_count\"]\n",
    "\n",
    "plt.figure(figsize=(14,6))\n",
    "a = 1\n",
    "for i in num:\n",
    "    plt.subplot(ceil(len(num)/2),2,a)\n",
    "    plt.title(i,fontsize=15)\n",
    "    sns.kdeplot(df[i],shade=True, alpha=.5, linewidth=4.2)\n",
    "    a+=1\n",
    "    plt.tight_layout(h_pad=4)"
   ]
  },
  {
   "cell_type": "markdown",
   "metadata": {},
   "source": [
    "## Data Correlation"
   ]
  },
  {
   "cell_type": "code",
   "execution_count": 19,
   "metadata": {
    "ExecuteTime": {
     "end_time": "2022-05-13T07:23:21.039085Z",
     "start_time": "2022-05-13T07:23:18.866285Z"
    }
   },
   "outputs": [
    {
     "data": {
      "image/png": "[encoded data removed]",
      "text/plain": [
       "<Figure size 864x576 with 2 Axes>"
      ]
     },
     "metadata": {
      "needs_background": "light"
     },
     "output_type": "display_data"
    }
   ],
   "source": [
    "num_list = list(df.describe().columns)\n",
    "\n",
    "plt.figure(figsize=(12,8))\n",
    "#Masking\n",
    "mask = np.triu(np.ones_like(df[num_list].corr()))\n",
    "sns.heatmap(df[num_list].corr(\"spearman\"),annot=True,mask=mask)\n",
    "plt.title(\"Correlation Numerical Feature\",fontsize=20)\n",
    "plt.show()"
   ]
  },
  {
   "cell_type": "markdown",
   "metadata": {},
   "source": [
    "## Boxplot"
   ]
  },
  {
   "cell_type": "code",
   "execution_count": 20,
   "metadata": {
    "ExecuteTime": {
     "end_time": "2022-05-13T07:23:21.614169Z",
     "start_time": "2022-05-13T07:23:21.048002Z"
    }
   },
   "outputs": [
    {
     "name": "stderr",
     "output_type": "stream",
     "text": [
      "C:\\Users\\vanessa.gabriella\\Anaconda3\\lib\\site-packages\\seaborn\\_decorators.py:36: FutureWarning: Pass the following variable as a keyword arg: x. From version 0.12, the only valid positional argument will be `data`, and passing other arguments without an explicit keyword will result in an error or misinterpretation.\n",
      "  warnings.warn(\n",
      "C:\\Users\\vanessa.gabriella\\Anaconda3\\lib\\site-packages\\seaborn\\_decorators.py:36: FutureWarning: Pass the following variable as a keyword arg: x. From version 0.12, the only valid positional argument will be `data`, and passing other arguments without an explicit keyword will result in an error or misinterpretation.\n",
      "  warnings.warn(\n",
      "C:\\Users\\vanessa.gabriella\\Anaconda3\\lib\\site-packages\\seaborn\\_decorators.py:36: FutureWarning: Pass the following variable as a keyword arg: x. From version 0.12, the only valid positional argument will be `data`, and passing other arguments without an explicit keyword will result in an error or misinterpretation.\n",
      "  warnings.warn(\n"
     ]
    },
    {
     "data": {
      "image/png": "[encoded data removed]",
      "text/plain": [
       "<Figure size 2016x864 with 3 Axes>"
      ]
     },
     "metadata": {
      "needs_background": "light"
     },
     "output_type": "display_data"
    }
   ],
   "source": [
    "plt.figure(figsize=(28,12))\n",
    "a = 1\n",
    "for i in num:\n",
    "    plt.subplot(ceil(len(num)/2),2,a)\n",
    "    plt.title(i,fontsize=15)\n",
    "    sns.boxplot(df[i])\n",
    "    a+=1\n",
    "    plt.tight_layout(h_pad=4)"
   ]
  },
  {
   "cell_type": "code",
   "execution_count": 21,
   "metadata": {
    "ExecuteTime": {
     "end_time": "2022-05-13T07:23:21.635067Z",
     "start_time": "2022-05-13T07:23:21.615362Z"
    }
   },
   "outputs": [],
   "source": [
    "def tot_outlier(feat):\n",
    "    df[feat].describe().loc[[\"25%\",\"50%\",\"75%\"]]\n",
    "    Q1 = df[feat].describe().loc[\"25%\"]\n",
    "    Q2 = df[feat].describe().loc[\"50%\"]\n",
    "    Q3 = df[feat].describe().loc[\"75%\"]\n",
    "    IQR = Q3-Q1\n",
    "    Blw = Q1 - (1.5*IQR)\n",
    "    Up = Q3 + (1.5*IQR)\n",
    "    print((df[feat]>Up).sum() + (df[feat]<Blw).sum())"
   ]
  },
  {
   "cell_type": "code",
   "execution_count": 22,
   "metadata": {
    "ExecuteTime": {
     "end_time": "2022-05-13T07:23:21.684781Z",
     "start_time": "2022-05-13T07:23:21.635565Z"
    }
   },
   "outputs": [
    {
     "name": "stdout",
     "output_type": "stream",
     "text": [
      "16832\n"
     ]
    }
   ],
   "source": [
    "#Number outliers of distance\n",
    "tot_outlier(\"distance\")"
   ]
  },
  {
   "cell_type": "code",
   "execution_count": 23,
   "metadata": {
    "ExecuteTime": {
     "end_time": "2022-05-13T07:23:21.722386Z",
     "start_time": "2022-05-13T07:23:21.687887Z"
    },
    "scrolled": true
   },
   "outputs": [
    {
     "name": "stdout",
     "output_type": "stream",
     "text": [
      "22556\n"
     ]
    }
   ],
   "source": [
    "#Number outliers of distance\n",
    "tot_outlier(\"passenger_count\")"
   ]
  },
  {
   "cell_type": "markdown",
   "metadata": {},
   "source": [
    "# Preprocessing"
   ]
  },
  {
   "cell_type": "code",
   "execution_count": 24,
   "metadata": {
    "ExecuteTime": {
     "end_time": "2022-05-13T07:23:21.735229Z",
     "start_time": "2022-05-13T07:23:21.725031Z"
    }
   },
   "outputs": [],
   "source": [
    "df_mod = df[[\"fare_amount\",\"passenger_count\",\"month\",\"day\",\"hour\",\"minute\",\"distance\"]]"
   ]
  },
  {
   "cell_type": "code",
   "execution_count": 25,
   "metadata": {
    "ExecuteTime": {
     "end_time": "2022-05-13T07:23:21.759241Z",
     "start_time": "2022-05-13T07:23:21.737523Z"
    }
   },
   "outputs": [
    {
     "name": "stdout",
     "output_type": "stream",
     "text": [
      "<class 'pandas.core.frame.DataFrame'>\n",
      "Int64Index: 199994 entries, 0 to 199999\n",
      "Data columns (total 7 columns):\n",
      " #   Column           Non-Null Count   Dtype  \n",
      "---  ------           --------------   -----  \n",
      " 0   fare_amount      199994 non-null  float64\n",
      " 1   passenger_count  199994 non-null  int64  \n",
      " 2   month            199994 non-null  int64  \n",
      " 3   day              199994 non-null  int64  \n",
      " 4   hour             199994 non-null  int64  \n",
      " 5   minute           199994 non-null  int64  \n",
      " 6   distance         199994 non-null  float64\n",
      "dtypes: float64(2), int64(5)\n",
      "memory usage: 16.2 MB\n"
     ]
    }
   ],
   "source": [
    "df_mod.info()"
   ]
  },
  {
   "cell_type": "markdown",
   "metadata": {},
   "source": [
    "## Outliers Isolation"
   ]
  },
  {
   "cell_type": "code",
   "execution_count": 26,
   "metadata": {
    "ExecuteTime": {
     "end_time": "2022-05-13T07:23:29.882875Z",
     "start_time": "2022-05-13T07:23:21.761487Z"
    }
   },
   "outputs": [
    {
     "name": "stdout",
     "output_type": "stream",
     "text": [
      "Number of Outliers: 48218\n",
      "Number of rows without outliers: 151776\n"
     ]
    }
   ],
   "source": [
    "df_iso = df_mod.copy()\n",
    "\n",
    "clf = IsolationForest( random_state = 42)\n",
    "clf.fit(df_iso)\n",
    "y_noano = clf.predict(df_iso)\n",
    "y_noano = pd.DataFrame(y_noano, columns = ['Top'])\n",
    "y_noano[y_noano['Top'] == 1].index.values\n",
    "\n",
    "df_iso = df_iso.iloc[y_noano[y_noano['Top'] == 1].index.values]\n",
    "df_iso.reset_index(drop = True, inplace = True)\n",
    "print(\"Number of Outliers:\", y_noano[y_noano['Top'] == -1].shape[0])\n",
    "print(\"Number of rows without outliers:\", df_iso.shape[0])"
   ]
  },
  {
   "cell_type": "markdown",
   "metadata": {},
   "source": [
    "## Transform"
   ]
  },
  {
   "cell_type": "code",
   "execution_count": 27,
   "metadata": {
    "ExecuteTime": {
     "end_time": "2022-05-13T07:23:29.898595Z",
     "start_time": "2022-05-13T07:23:29.884870Z"
    }
   },
   "outputs": [],
   "source": [
    "transformer= ColumnTransformer([\n",
    "    (\"minmax\",MinMaxScaler(),list(df_mod.drop(columns = \"fare_amount\").columns)),\n",
    "], remainder='passthrough')"
   ]
  },
  {
   "cell_type": "markdown",
   "metadata": {},
   "source": [
    "## Splitting"
   ]
  },
  {
   "cell_type": "markdown",
   "metadata": {},
   "source": [
    "### Normal Dataset"
   ]
  },
  {
   "cell_type": "code",
   "execution_count": 28,
   "metadata": {
    "ExecuteTime": {
     "end_time": "2022-05-13T07:23:29.947687Z",
     "start_time": "2022-05-13T07:23:29.900602Z"
    }
   },
   "outputs": [],
   "source": [
    "x = df_mod.drop(columns=[\"fare_amount\"])\n",
    "y = df_mod[\"fare_amount\"]\n",
    "\n",
    "x_train, x_test, y_train, y_test = train_test_split(\n",
    "    x,\n",
    "    y,\n",
    "    random_state=2020)"
   ]
  },
  {
   "cell_type": "code",
   "execution_count": 29,
   "metadata": {
    "ExecuteTime": {
     "end_time": "2022-05-13T07:23:29.998435Z",
     "start_time": "2022-05-13T07:23:29.948694Z"
    }
   },
   "outputs": [],
   "source": [
    "x_train_t = transformer.fit_transform(x_train)\n",
    "x_test_t = transformer.fit_transform(x_test)"
   ]
  },
  {
   "cell_type": "markdown",
   "metadata": {},
   "source": [
    "### Outliers isolation"
   ]
  },
  {
   "cell_type": "code",
   "execution_count": 30,
   "metadata": {
    "ExecuteTime": {
     "end_time": "2022-05-13T07:23:30.049139Z",
     "start_time": "2022-05-13T07:23:29.998933Z"
    }
   },
   "outputs": [],
   "source": [
    "x_iso = df_iso.drop(columns=[\"fare_amount\"])\n",
    "y_iso = df_iso[\"fare_amount\"]\n",
    "\n",
    "x_train_iso, x_test_iso, y_train_iso, y_test_iso = train_test_split(\n",
    "    x_iso,\n",
    "    y_iso,\n",
    "    random_state=2020)"
   ]
  },
  {
   "cell_type": "code",
   "execution_count": 31,
   "metadata": {
    "ExecuteTime": {
     "end_time": "2022-05-13T07:23:30.093846Z",
     "start_time": "2022-05-13T07:23:30.049638Z"
    }
   },
   "outputs": [],
   "source": [
    "x_train_iso_t = transformer.fit_transform(x_train_iso)\n",
    "x_test_iso_t = transformer.fit_transform(x_test_iso)"
   ]
  },
  {
   "cell_type": "markdown",
   "metadata": {},
   "source": [
    "# Change Dataset to Tensor"
   ]
  },
  {
   "cell_type": "code",
   "execution_count": 33,
   "metadata": {
    "ExecuteTime": {
     "end_time": "2022-05-13T07:23:31.632866Z",
     "start_time": "2022-05-13T07:23:30.710881Z"
    }
   },
   "outputs": [],
   "source": [
    "x_train_t = tf.constant(x_train_t)\n",
    "x_test_t = tf.constant(x_test_t)"
   ]
  },
  {
   "cell_type": "code",
   "execution_count": 34,
   "metadata": {
    "ExecuteTime": {
     "end_time": "2022-05-13T07:23:31.649098Z",
     "start_time": "2022-05-13T07:23:31.633363Z"
    }
   },
   "outputs": [],
   "source": [
    "x_train_iso_t = tf.constant(x_train_iso_t)\n",
    "x_test_iso_t = tf.constant(x_test_iso_t) "
   ]
  },
  {
   "cell_type": "markdown",
   "metadata": {},
   "source": [
    "# Data Analytics"
   ]
  },
  {
   "cell_type": "markdown",
   "metadata": {},
   "source": [
    "## Fare Amount with Distance"
   ]
  },
  {
   "cell_type": "code",
   "execution_count": 39,
   "metadata": {
    "ExecuteTime": {
     "end_time": "2022-05-13T07:26:33.354905Z",
     "start_time": "2022-05-13T07:26:33.320570Z"
    },
    "scrolled": false
   },
   "outputs": [
    {
     "data": {
      "text/html": [
       "<div>\n",
       "<style scoped>\n",
       "    .dataframe tbody tr th:only-of-type {\n",
       "        vertical-align: middle;\n",
       "    }\n",
       "\n",
       "    .dataframe tbody tr th {\n",
       "        vertical-align: top;\n",
       "    }\n",
       "\n",
       "    .dataframe thead th {\n",
       "        text-align: right;\n",
       "    }\n",
       "</style>\n",
       "<table border=\"1\" class=\"dataframe\">\n",
       "  <thead>\n",
       "    <tr style=\"text-align: right;\">\n",
       "      <th></th>\n",
       "      <th>fare_amount</th>\n",
       "      <th>pickup_datetime</th>\n",
       "      <th>pickup_longitude</th>\n",
       "      <th>pickup_latitude</th>\n",
       "      <th>dropoff_longitude</th>\n",
       "      <th>dropoff_latitude</th>\n",
       "      <th>passenger_count</th>\n",
       "      <th>year</th>\n",
       "      <th>month</th>\n",
       "      <th>day</th>\n",
       "      <th>hour</th>\n",
       "      <th>minute</th>\n",
       "      <th>is_weekend</th>\n",
       "      <th>week</th>\n",
       "      <th>distance</th>\n",
       "    </tr>\n",
       "  </thead>\n",
       "  <tbody>\n",
       "    <tr>\n",
       "      <th>61</th>\n",
       "      <td>17.3</td>\n",
       "      <td>2011-10-30 11:34:39</td>\n",
       "      <td>-73.975307</td>\n",
       "      <td>40.757499</td>\n",
       "      <td>-74.010737</td>\n",
       "      <td>40.711715</td>\n",
       "      <td>3</td>\n",
       "      <td>2011</td>\n",
       "      <td>10</td>\n",
       "      <td>30</td>\n",
       "      <td>11</td>\n",
       "      <td>34</td>\n",
       "      <td>1</td>\n",
       "      <td>4</td>\n",
       "      <td>5.9</td>\n",
       "    </tr>\n",
       "    <tr>\n",
       "      <th>159355</th>\n",
       "      <td>19.3</td>\n",
       "      <td>2009-10-01 22:28:54</td>\n",
       "      <td>-74.002254</td>\n",
       "      <td>40.708987</td>\n",
       "      <td>-73.986314</td>\n",
       "      <td>40.760759</td>\n",
       "      <td>1</td>\n",
       "      <td>2009</td>\n",
       "      <td>10</td>\n",
       "      <td>1</td>\n",
       "      <td>22</td>\n",
       "      <td>28</td>\n",
       "      <td>0</td>\n",
       "      <td>1</td>\n",
       "      <td>5.9</td>\n",
       "    </tr>\n",
       "    <tr>\n",
       "      <th>156550</th>\n",
       "      <td>18.5</td>\n",
       "      <td>2015-06-10 00:02:06</td>\n",
       "      <td>-73.990837</td>\n",
       "      <td>40.760738</td>\n",
       "      <td>-74.004944</td>\n",
       "      <td>40.708679</td>\n",
       "      <td>1</td>\n",
       "      <td>2015</td>\n",
       "      <td>6</td>\n",
       "      <td>10</td>\n",
       "      <td>0</td>\n",
       "      <td>2</td>\n",
       "      <td>0</td>\n",
       "      <td>2</td>\n",
       "      <td>5.9</td>\n",
       "    </tr>\n",
       "    <tr>\n",
       "      <th>149807</th>\n",
       "      <td>16.5</td>\n",
       "      <td>2012-08-22 19:18:56</td>\n",
       "      <td>-74.015900</td>\n",
       "      <td>40.711541</td>\n",
       "      <td>-73.977034</td>\n",
       "      <td>40.755639</td>\n",
       "      <td>1</td>\n",
       "      <td>2012</td>\n",
       "      <td>8</td>\n",
       "      <td>22</td>\n",
       "      <td>19</td>\n",
       "      <td>18</td>\n",
       "      <td>0</td>\n",
       "      <td>4</td>\n",
       "      <td>5.9</td>\n",
       "    </tr>\n",
       "    <tr>\n",
       "      <th>148028</th>\n",
       "      <td>17.0</td>\n",
       "      <td>2014-01-11 19:35:00</td>\n",
       "      <td>-73.966872</td>\n",
       "      <td>40.753402</td>\n",
       "      <td>-74.007062</td>\n",
       "      <td>40.709982</td>\n",
       "      <td>1</td>\n",
       "      <td>2014</td>\n",
       "      <td>1</td>\n",
       "      <td>11</td>\n",
       "      <td>19</td>\n",
       "      <td>35</td>\n",
       "      <td>1</td>\n",
       "      <td>2</td>\n",
       "      <td>5.9</td>\n",
       "    </tr>\n",
       "    <tr>\n",
       "      <th>144744</th>\n",
       "      <td>16.5</td>\n",
       "      <td>2010-07-23 08:22:00</td>\n",
       "      <td>-73.982830</td>\n",
       "      <td>40.751273</td>\n",
       "      <td>-74.014377</td>\n",
       "      <td>40.703863</td>\n",
       "      <td>1</td>\n",
       "      <td>2010</td>\n",
       "      <td>7</td>\n",
       "      <td>23</td>\n",
       "      <td>8</td>\n",
       "      <td>22</td>\n",
       "      <td>0</td>\n",
       "      <td>4</td>\n",
       "      <td>5.9</td>\n",
       "    </tr>\n",
       "    <tr>\n",
       "      <th>143663</th>\n",
       "      <td>14.5</td>\n",
       "      <td>2012-06-06 22:41:00</td>\n",
       "      <td>-73.992277</td>\n",
       "      <td>40.724570</td>\n",
       "      <td>-73.975910</td>\n",
       "      <td>40.776250</td>\n",
       "      <td>5</td>\n",
       "      <td>2012</td>\n",
       "      <td>6</td>\n",
       "      <td>6</td>\n",
       "      <td>22</td>\n",
       "      <td>41</td>\n",
       "      <td>0</td>\n",
       "      <td>1</td>\n",
       "      <td>5.9</td>\n",
       "    </tr>\n",
       "    <tr>\n",
       "      <th>140696</th>\n",
       "      <td>13.3</td>\n",
       "      <td>2009-07-28 00:10:41</td>\n",
       "      <td>-73.961068</td>\n",
       "      <td>40.661146</td>\n",
       "      <td>-74.021339</td>\n",
       "      <td>40.634483</td>\n",
       "      <td>1</td>\n",
       "      <td>2009</td>\n",
       "      <td>7</td>\n",
       "      <td>28</td>\n",
       "      <td>0</td>\n",
       "      <td>10</td>\n",
       "      <td>0</td>\n",
       "      <td>4</td>\n",
       "      <td>5.9</td>\n",
       "    </tr>\n",
       "    <tr>\n",
       "      <th>136159</th>\n",
       "      <td>18.1</td>\n",
       "      <td>2011-03-09 23:11:00</td>\n",
       "      <td>-73.958185</td>\n",
       "      <td>40.816093</td>\n",
       "      <td>-73.924282</td>\n",
       "      <td>40.769667</td>\n",
       "      <td>5</td>\n",
       "      <td>2011</td>\n",
       "      <td>3</td>\n",
       "      <td>9</td>\n",
       "      <td>23</td>\n",
       "      <td>11</td>\n",
       "      <td>0</td>\n",
       "      <td>2</td>\n",
       "      <td>5.9</td>\n",
       "    </tr>\n",
       "    <tr>\n",
       "      <th>133393</th>\n",
       "      <td>16.5</td>\n",
       "      <td>2014-03-22 12:48:00</td>\n",
       "      <td>-73.981710</td>\n",
       "      <td>40.773367</td>\n",
       "      <td>-73.923867</td>\n",
       "      <td>40.743587</td>\n",
       "      <td>1</td>\n",
       "      <td>2014</td>\n",
       "      <td>3</td>\n",
       "      <td>22</td>\n",
       "      <td>12</td>\n",
       "      <td>48</td>\n",
       "      <td>1</td>\n",
       "      <td>4</td>\n",
       "      <td>5.9</td>\n",
       "    </tr>\n",
       "  </tbody>\n",
       "</table>\n",
       "</div>"
      ],
      "text/plain": [
       "        fare_amount     pickup_datetime  pickup_longitude  pickup_latitude  \\\n",
       "61             17.3 2011-10-30 11:34:39        -73.975307        40.757499   \n",
       "159355         19.3 2009-10-01 22:28:54        -74.002254        40.708987   \n",
       "156550         18.5 2015-06-10 00:02:06        -73.990837        40.760738   \n",
       "149807         16.5 2012-08-22 19:18:56        -74.015900        40.711541   \n",
       "148028         17.0 2014-01-11 19:35:00        -73.966872        40.753402   \n",
       "144744         16.5 2010-07-23 08:22:00        -73.982830        40.751273   \n",
       "143663         14.5 2012-06-06 22:41:00        -73.992277        40.724570   \n",
       "140696         13.3 2009-07-28 00:10:41        -73.961068        40.661146   \n",
       "136159         18.1 2011-03-09 23:11:00        -73.958185        40.816093   \n",
       "133393         16.5 2014-03-22 12:48:00        -73.981710        40.773367   \n",
       "\n",
       "        dropoff_longitude  dropoff_latitude  passenger_count  year  month  \\\n",
       "61             -74.010737         40.711715                3  2011     10   \n",
       "159355         -73.986314         40.760759                1  2009     10   \n",
       "156550         -74.004944         40.708679                1  2015      6   \n",
       "149807         -73.977034         40.755639                1  2012      8   \n",
       "148028         -74.007062         40.709982                1  2014      1   \n",
       "144744         -74.014377         40.703863                1  2010      7   \n",
       "143663         -73.975910         40.776250                5  2012      6   \n",
       "140696         -74.021339         40.634483                1  2009      7   \n",
       "136159         -73.924282         40.769667                5  2011      3   \n",
       "133393         -73.923867         40.743587                1  2014      3   \n",
       "\n",
       "        day  hour  minute  is_weekend  week  distance  \n",
       "61       30    11      34           1     4       5.9  \n",
       "159355    1    22      28           0     1       5.9  \n",
       "156550   10     0       2           0     2       5.9  \n",
       "149807   22    19      18           0     4       5.9  \n",
       "148028   11    19      35           1     2       5.9  \n",
       "144744   23     8      22           0     4       5.9  \n",
       "143663    6    22      41           0     1       5.9  \n",
       "140696   28     0      10           0     4       5.9  \n",
       "136159    9    23      11           0     2       5.9  \n",
       "133393   22    12      48           1     4       5.9  "
      ]
     },
     "execution_count": 39,
     "metadata": {},
     "output_type": "execute_result"
    }
   ],
   "source": [
    "df[(df[\"distance\"]==5.9)].sort_values('distance',ascending = False).head(10)"
   ]
  },
  {
   "cell_type": "code",
   "execution_count": 44,
   "metadata": {
    "ExecuteTime": {
     "end_time": "2022-05-13T07:30:11.027823Z",
     "start_time": "2022-05-13T07:30:11.009356Z"
    }
   },
   "outputs": [
    {
     "name": "stdout",
     "output_type": "stream",
     "text": [
      "Maximum value at distance 5.9: 29.0\n",
      "Minimum value at distance 5.9: 9.7\n"
     ]
    }
   ],
   "source": [
    "print(f'''Maximum value at distance 5.9: {df[(df[\"distance\"]==5.9)]['fare_amount'].max()}\n",
    "Minimum value at distance 5.9: {df[(df[\"distance\"]==5.9)]['fare_amount'].min()}''')"
   ]
  },
  {
   "cell_type": "markdown",
   "metadata": {},
   "source": [
    "We can see if the price are different although they have same distance with max value of fare amount is 29 and min value of fare amount is 9.7 "
   ]
  },
  {
   "cell_type": "markdown",
   "metadata": {},
   "source": [
    "## Visualization with Tableau\n",
    "\n",
    "Source: https://public.tableau.com/app/profile/juan1691/viz/UberTransactionAnalysis/UberTransactionsAnalysis?publish=yes"
   ]
  },
  {
   "cell_type": "markdown",
   "metadata": {},
   "source": [
    "### Dashboard 1: Orders Informations"
   ]
  },
  {
   "cell_type": "markdown",
   "metadata": {
    "ExecuteTime": {
     "end_time": "2022-05-17T07:34:32.788473Z",
     "start_time": "2022-05-17T07:34:32.770278Z"
    }
   },
   "source": [
    "<img src='db1.png'>"
   ]
  },
  {
   "cell_type": "markdown",
   "metadata": {},
   "source": [
    "Filter:\n",
    "* Day: Sunday\n",
    "* Week: 1\n",
    "* Month: 1\n",
    "* Year: 2015\n",
    "\n",
    "With result:\n",
    "* Number of orders on sunday: 52.\n",
    "* Avarage passangers on sunday: 2.\n",
    "* There is no difference of number of orders between weekend and not weekend.\n",
    "* Day 10 have the highest number of orders than other days.\n",
    "* Week 4 have the highest number of orders than other days.\n",
    "* 2013 have the highest number of orders than other years."
   ]
  },
  {
   "cell_type": "markdown",
   "metadata": {},
   "source": [
    "### Dashboard 2: Transactions Activity"
   ]
  },
  {
   "cell_type": "markdown",
   "metadata": {
    "ExecuteTime": {
     "end_time": "2022-05-17T07:40:03.842100Z",
     "start_time": "2022-05-17T07:40:03.829388Z"
    }
   },
   "source": [
    "<img src='db22.png'>"
   ]
  },
  {
   "cell_type": "markdown",
   "metadata": {},
   "source": [
    "Filter:\n",
    "* Year: 2015\n",
    "* Month: January\n",
    "* Week: 1\n",
    "\n",
    "With results:\n",
    "* Saturday have the most transactions than others days.\n",
    "* 7 am  is the time with the most transactions than others hours on Sunday.\n",
    "* Friday have the longest distance traveled compared to other days.\n",
    "* 3 am is the time with the longest distance traveled than others hours on Sunday.\n",
    "* Friday have the biggest revenue compared to other days.\n",
    "* 1 pm is the time with the biggest revenue than others hours on Sunday."
   ]
  },
  {
   "cell_type": "markdown",
   "metadata": {},
   "source": [
    "### Dashboard 3: Transactions Summary"
   ]
  },
  {
   "cell_type": "markdown",
   "metadata": {},
   "source": [
    "<img src='db3.png'>"
   ]
  },
  {
   "cell_type": "markdown",
   "metadata": {},
   "source": [
    "This results based on all data:\n",
    "\n",
    "* June have the longest total distance traveled compared to other months.\n",
    "* 2014 have the longest total distance traveled compared to other years.\n",
    "* May have the highest revenue compared to other months.\n",
    "* 2013 have the highest revenue compared to other years."
   ]
  },
  {
   "cell_type": "markdown",
   "metadata": {},
   "source": [
    "### Dashboard 4: Transactions History"
   ]
  },
  {
   "cell_type": "markdown",
   "metadata": {},
   "source": [
    "<img src='db4.png'>"
   ]
  },
  {
   "cell_type": "markdown",
   "metadata": {},
   "source": [
    "Filter:\n",
    "* Year: 2015\n",
    "* Month: January\n",
    "* Date: 1\n",
    "* Hour: 7 - 11\n",
    "* Transactions code: 180500\n",
    "\n",
    "With result:\n",
    "* Distance: 1.170 km\n",
    "* Fare Amount: 5 USD\n",
    "* Number of Passangers: 2\n",
    "* Map: Pickup & Dropoff"
   ]
  },
  {
   "cell_type": "markdown",
   "metadata": {},
   "source": [
    "# Modeling"
   ]
  },
  {
   "cell_type": "markdown",
   "metadata": {},
   "source": [
    "## Visialization Function"
   ]
  },
  {
   "cell_type": "markdown",
   "metadata": {},
   "source": [
    "### Loss"
   ]
  },
  {
   "cell_type": "code",
   "execution_count": 45,
   "metadata": {
    "ExecuteTime": {
     "end_time": "2022-05-13T07:31:44.882826Z",
     "start_time": "2022-05-13T07:31:44.861294Z"
    }
   },
   "outputs": [],
   "source": [
    "def loss(x):\n",
    "    plt.plot(x.history['loss'])\n",
    "    plt.plot(x.history['val_loss'])\n",
    "    plt.title('model loss')\n",
    "    plt.ylabel('loss')\n",
    "    plt.xlabel('epoch')\n",
    "    plt.legend(['train', 'test'], loc=0)\n",
    "    plt.show()"
   ]
  },
  {
   "cell_type": "markdown",
   "metadata": {},
   "source": [
    "### Loss with Learning Rate"
   ]
  },
  {
   "cell_type": "code",
   "execution_count": 46,
   "metadata": {
    "ExecuteTime": {
     "end_time": "2022-05-13T07:31:44.897959Z",
     "start_time": "2022-05-13T07:31:44.886240Z"
    }
   },
   "outputs": [],
   "source": [
    "def loss_lr(x):\n",
    "    plt.plot(x.history['loss'])\n",
    "    plt.plot(x.history['val_loss'])\n",
    "    plt.plot(x.history['lr'])\n",
    "    plt.title('model loss')\n",
    "    plt.ylabel('loss')\n",
    "    plt.xlabel('epoch')\n",
    "    plt.legend(['train', 'test'], loc=0)\n",
    "    plt.show()"
   ]
  },
  {
   "cell_type": "markdown",
   "metadata": {},
   "source": [
    "### Loss VS Learning Rate"
   ]
  },
  {
   "cell_type": "code",
   "execution_count": 47,
   "metadata": {
    "ExecuteTime": {
     "end_time": "2022-05-13T07:31:44.913167Z",
     "start_time": "2022-05-13T07:31:44.900800Z"
    }
   },
   "outputs": [],
   "source": [
    "#Plot the learning rate vs Loss\n",
    "def lr_plot(x):\n",
    "    lrs = 1e-4 * 10**(tf.range(len(x.history['loss']))/20)\n",
    "    plt.figure(figsize=(10,7))\n",
    "    plt.semilogx(lrs,x.history['loss'])\n",
    "    plt.xlabel(\"Learning Rate\")\n",
    "    plt.ylabel(\"Loss\")\n",
    "    plt.title(\"Learning Rate VS Loss\")"
   ]
  },
  {
   "cell_type": "markdown",
   "metadata": {},
   "source": [
    "## Basic Model"
   ]
  },
  {
   "cell_type": "markdown",
   "metadata": {},
   "source": [
    "### Create Model"
   ]
  },
  {
   "cell_type": "code",
   "execution_count": 48,
   "metadata": {
    "ExecuteTime": {
     "end_time": "2022-05-13T07:32:55.558285Z",
     "start_time": "2022-05-13T07:31:44.914960Z"
    },
    "scrolled": true
   },
   "outputs": [
    {
     "data": {
      "image/png": "[encoded data removed]",
      "text/plain": [
       "<Figure size 432x288 with 1 Axes>"
      ]
     },
     "metadata": {
      "needs_background": "light"
     },
     "output_type": "display_data"
    }
   ],
   "source": [
    "#Set Random Seed\n",
    "tf.random.set_seed(42)\n",
    "\n",
    "#Create Model\n",
    "model_1 = tf.keras.Sequential([\n",
    "  tf.keras.layers.Dense(1)\n",
    "],name = 'whole_dataset')\n",
    "\n",
    "#Compiling Model\n",
    "model_1.compile(loss= \"mae\",\n",
    "              optimizer=tf.keras.optimizers.SGD(),\n",
    "              metrics=[\"mae\"])\n",
    "\n",
    "#Callbacks\n",
    "callback = tf.keras.callbacks.EarlyStopping(monitor='loss', patience=5)\n",
    "\n",
    "#Fitting Model\n",
    "history1 = model_1.fit(tf.expand_dims(x_train_t,axis=-1),y_train,epochs=100,validation_split=0.3,batch_size = 32,callbacks=[callback],verbose = 0)\n",
    "\n",
    "loss(history1)"
   ]
  },
  {
   "cell_type": "code",
   "execution_count": 49,
   "metadata": {
    "ExecuteTime": {
     "end_time": "2022-05-13T07:32:55.573993Z",
     "start_time": "2022-05-13T07:32:55.559982Z"
    },
    "scrolled": true
   },
   "outputs": [
    {
     "data": {
      "text/html": [
       "<div>\n",
       "<style scoped>\n",
       "    .dataframe tbody tr th:only-of-type {\n",
       "        vertical-align: middle;\n",
       "    }\n",
       "\n",
       "    .dataframe tbody tr th {\n",
       "        vertical-align: top;\n",
       "    }\n",
       "\n",
       "    .dataframe thead th {\n",
       "        text-align: right;\n",
       "    }\n",
       "</style>\n",
       "<table border=\"1\" class=\"dataframe\">\n",
       "  <thead>\n",
       "    <tr style=\"text-align: right;\">\n",
       "      <th></th>\n",
       "      <th>loss</th>\n",
       "      <th>mae</th>\n",
       "      <th>val_loss</th>\n",
       "      <th>val_mae</th>\n",
       "    </tr>\n",
       "  </thead>\n",
       "  <tbody>\n",
       "    <tr>\n",
       "      <th>14</th>\n",
       "      <td>5.408067</td>\n",
       "      <td>5.408067</td>\n",
       "      <td>5.424577</td>\n",
       "      <td>5.424577</td>\n",
       "    </tr>\n",
       "    <tr>\n",
       "      <th>5</th>\n",
       "      <td>5.408801</td>\n",
       "      <td>5.408801</td>\n",
       "      <td>5.424587</td>\n",
       "      <td>5.424587</td>\n",
       "    </tr>\n",
       "    <tr>\n",
       "      <th>7</th>\n",
       "      <td>5.408074</td>\n",
       "      <td>5.408074</td>\n",
       "      <td>5.424617</td>\n",
       "      <td>5.424617</td>\n",
       "    </tr>\n",
       "    <tr>\n",
       "      <th>9</th>\n",
       "      <td>5.408065</td>\n",
       "      <td>5.408065</td>\n",
       "      <td>5.424631</td>\n",
       "      <td>5.424631</td>\n",
       "    </tr>\n",
       "    <tr>\n",
       "      <th>8</th>\n",
       "      <td>5.408060</td>\n",
       "      <td>5.408060</td>\n",
       "      <td>5.424667</td>\n",
       "      <td>5.424667</td>\n",
       "    </tr>\n",
       "  </tbody>\n",
       "</table>\n",
       "</div>"
      ],
      "text/plain": [
       "        loss       mae  val_loss   val_mae\n",
       "14  5.408067  5.408067  5.424577  5.424577\n",
       "5   5.408801  5.408801  5.424587  5.424587\n",
       "7   5.408074  5.408074  5.424617  5.424617\n",
       "9   5.408065  5.408065  5.424631  5.424631\n",
       "8   5.408060  5.408060  5.424667  5.424667"
      ]
     },
     "execution_count": 49,
     "metadata": {},
     "output_type": "execute_result"
    }
   ],
   "source": [
    "df_1 = pd.DataFrame(history1.history).sort_values(\"val_mae\",ascending=True).head()\n",
    "df_1"
   ]
  },
  {
   "cell_type": "markdown",
   "metadata": {},
   "source": [
    "### Summary"
   ]
  },
  {
   "cell_type": "markdown",
   "metadata": {},
   "source": [
    "#### Prediction"
   ]
  },
  {
   "cell_type": "code",
   "execution_count": 50,
   "metadata": {
    "ExecuteTime": {
     "end_time": "2022-05-13T07:32:58.750549Z",
     "start_time": "2022-05-13T07:32:55.578115Z"
    },
    "scrolled": true
   },
   "outputs": [
    {
     "name": "stdout",
     "output_type": "stream",
     "text": [
      "1563/1563 [==============================] - 3s 2ms/step - loss: 5.3849 - mae: 5.3849\n"
     ]
    }
   ],
   "source": [
    "bas = model_1.evaluate(x_test_t,y_test,batch_size=32)"
   ]
  },
  {
   "cell_type": "markdown",
   "metadata": {},
   "source": [
    "#### Weight"
   ]
  },
  {
   "cell_type": "code",
   "execution_count": 51,
   "metadata": {
    "ExecuteTime": {
     "end_time": "2022-05-13T07:32:58.766437Z",
     "start_time": "2022-05-13T07:32:58.752054Z"
    },
    "scrolled": true
   },
   "outputs": [
    {
     "data": {
      "text/plain": [
       "array([[-0.00631716]], dtype=float32)"
      ]
     },
     "execution_count": 51,
     "metadata": {},
     "output_type": "execute_result"
    }
   ],
   "source": [
    "model_1.layers[0].get_weights()[0]"
   ]
  },
  {
   "cell_type": "markdown",
   "metadata": {},
   "source": [
    "#### Bias"
   ]
  },
  {
   "cell_type": "code",
   "execution_count": 52,
   "metadata": {
    "ExecuteTime": {
     "end_time": "2022-05-13T07:32:58.796785Z",
     "start_time": "2022-05-13T07:32:58.768939Z"
    }
   },
   "outputs": [
    {
     "data": {
      "text/plain": [
       "array([8.477627], dtype=float32)"
      ]
     },
     "execution_count": 52,
     "metadata": {},
     "output_type": "execute_result"
    }
   ],
   "source": [
    "model_1.layers[0].get_weights()[1]"
   ]
  },
  {
   "cell_type": "markdown",
   "metadata": {},
   "source": [
    "#### Model Summary"
   ]
  },
  {
   "cell_type": "code",
   "execution_count": 53,
   "metadata": {
    "ExecuteTime": {
     "end_time": "2022-05-13T07:32:58.827400Z",
     "start_time": "2022-05-13T07:32:58.799942Z"
    }
   },
   "outputs": [
    {
     "name": "stdout",
     "output_type": "stream",
     "text": [
      "Model: \"whole_dataset\"\n",
      "_________________________________________________________________\n",
      " Layer (type)                Output Shape              Param #   \n",
      "=================================================================\n",
      " dense (Dense)               (None, 6, 1)              2         \n",
      "                                                                 \n",
      "=================================================================\n",
      "Total params: 2\n",
      "Trainable params: 2\n",
      "Non-trainable params: 0\n",
      "_________________________________________________________________\n"
     ]
    }
   ],
   "source": [
    "model_1.summary()"
   ]
  },
  {
   "cell_type": "markdown",
   "metadata": {},
   "source": [
    "## Isolation Outliers Dataset"
   ]
  },
  {
   "cell_type": "markdown",
   "metadata": {},
   "source": [
    "### Create Model"
   ]
  },
  {
   "cell_type": "code",
   "execution_count": 54,
   "metadata": {
    "ExecuteTime": {
     "end_time": "2022-05-13T07:35:01.389992Z",
     "start_time": "2022-05-13T07:32:58.831319Z"
    }
   },
   "outputs": [
    {
     "data": {
      "image/png": "[encoded data removed]",
      "text/plain": [
       "<Figure size 432x288 with 1 Axes>"
      ]
     },
     "metadata": {
      "needs_background": "light"
     },
     "output_type": "display_data"
    }
   ],
   "source": [
    "#Set Random Seed\n",
    "tf.random.set_seed(42)\n",
    "\n",
    "#Create Model\n",
    "model_2 = tf.keras.Sequential([\n",
    "    tf.keras.layers.Dense(1)\n",
    "],name='isolation_dataset')\n",
    "\n",
    "#Compiling Model\n",
    "model_2.compile(loss= \"mae\",\n",
    "              optimizer=tf.keras.optimizers.SGD(),\n",
    "              metrics=[\"mae\"])\n",
    "#Callbacks\n",
    "callback = tf.keras.callbacks.EarlyStopping(monitor='loss', patience=5)\n",
    "\n",
    "#Fitting Model\n",
    "history2 = model_2.fit(tf.expand_dims(x_train_iso_t,axis=-1),y_train_iso,epochs=100,validation_split=0.3,batch_size = 32,callbacks=[callback],verbose = 0)\n",
    "\n",
    "loss(history2)"
   ]
  },
  {
   "cell_type": "code",
   "execution_count": 55,
   "metadata": {
    "ExecuteTime": {
     "end_time": "2022-05-13T07:35:01.420860Z",
     "start_time": "2022-05-13T07:35:01.394020Z"
    },
    "scrolled": true
   },
   "outputs": [
    {
     "data": {
      "text/html": [
       "<div>\n",
       "<style scoped>\n",
       "    .dataframe tbody tr th:only-of-type {\n",
       "        vertical-align: middle;\n",
       "    }\n",
       "\n",
       "    .dataframe tbody tr th {\n",
       "        vertical-align: top;\n",
       "    }\n",
       "\n",
       "    .dataframe thead th {\n",
       "        text-align: right;\n",
       "    }\n",
       "</style>\n",
       "<table border=\"1\" class=\"dataframe\">\n",
       "  <thead>\n",
       "    <tr style=\"text-align: right;\">\n",
       "      <th></th>\n",
       "      <th>loss</th>\n",
       "      <th>mae</th>\n",
       "      <th>val_loss</th>\n",
       "      <th>val_mae</th>\n",
       "    </tr>\n",
       "  </thead>\n",
       "  <tbody>\n",
       "    <tr>\n",
       "      <th>17</th>\n",
       "      <td>3.175559</td>\n",
       "      <td>3.175559</td>\n",
       "      <td>3.133450</td>\n",
       "      <td>3.133450</td>\n",
       "    </tr>\n",
       "    <tr>\n",
       "      <th>21</th>\n",
       "      <td>3.175535</td>\n",
       "      <td>3.175535</td>\n",
       "      <td>3.133453</td>\n",
       "      <td>3.133453</td>\n",
       "    </tr>\n",
       "    <tr>\n",
       "      <th>15</th>\n",
       "      <td>3.175592</td>\n",
       "      <td>3.175592</td>\n",
       "      <td>3.133454</td>\n",
       "      <td>3.133454</td>\n",
       "    </tr>\n",
       "    <tr>\n",
       "      <th>20</th>\n",
       "      <td>3.175587</td>\n",
       "      <td>3.175587</td>\n",
       "      <td>3.133455</td>\n",
       "      <td>3.133455</td>\n",
       "    </tr>\n",
       "    <tr>\n",
       "      <th>32</th>\n",
       "      <td>3.175624</td>\n",
       "      <td>3.175624</td>\n",
       "      <td>3.133459</td>\n",
       "      <td>3.133459</td>\n",
       "    </tr>\n",
       "  </tbody>\n",
       "</table>\n",
       "</div>"
      ],
      "text/plain": [
       "        loss       mae  val_loss   val_mae\n",
       "17  3.175559  3.175559  3.133450  3.133450\n",
       "21  3.175535  3.175535  3.133453  3.133453\n",
       "15  3.175592  3.175592  3.133454  3.133454\n",
       "20  3.175587  3.175587  3.133455  3.133455\n",
       "32  3.175624  3.175624  3.133459  3.133459"
      ]
     },
     "execution_count": 55,
     "metadata": {},
     "output_type": "execute_result"
    }
   ],
   "source": [
    "df_2 = pd.DataFrame(history2.history).sort_values(\"val_mae\",ascending=True).head()\n",
    "df_2"
   ]
  },
  {
   "cell_type": "markdown",
   "metadata": {},
   "source": [
    "### Summary"
   ]
  },
  {
   "cell_type": "markdown",
   "metadata": {},
   "source": [
    "#### Prediction"
   ]
  },
  {
   "cell_type": "code",
   "execution_count": 56,
   "metadata": {
    "ExecuteTime": {
     "end_time": "2022-05-13T07:35:05.018414Z",
     "start_time": "2022-05-13T07:35:01.424111Z"
    }
   },
   "outputs": [
    {
     "name": "stdout",
     "output_type": "stream",
     "text": [
      "1563/1563 [==============================] - 4s 2ms/step - loss: 5.4182 - mae: 5.4182\n"
     ]
    }
   ],
   "source": [
    "bas_out = model_2.evaluate(x_test_t,y_test,batch_size=32)"
   ]
  },
  {
   "cell_type": "markdown",
   "metadata": {},
   "source": [
    "#### Model Summary"
   ]
  },
  {
   "cell_type": "code",
   "execution_count": 57,
   "metadata": {
    "ExecuteTime": {
     "end_time": "2022-05-13T07:35:05.033924Z",
     "start_time": "2022-05-13T07:35:05.019406Z"
    }
   },
   "outputs": [
    {
     "name": "stdout",
     "output_type": "stream",
     "text": [
      "Model: \"isolation_dataset\"\n",
      "_________________________________________________________________\n",
      " Layer (type)                Output Shape              Param #   \n",
      "=================================================================\n",
      " dense_1 (Dense)             (None, 6, 1)              2         \n",
      "                                                                 \n",
      "=================================================================\n",
      "Total params: 2\n",
      "Trainable params: 2\n",
      "Non-trainable params: 0\n",
      "_________________________________________________________________\n"
     ]
    }
   ],
   "source": [
    "model_2.summary()"
   ]
  },
  {
   "cell_type": "markdown",
   "metadata": {},
   "source": [
    "#### Weight"
   ]
  },
  {
   "cell_type": "code",
   "execution_count": 58,
   "metadata": {
    "ExecuteTime": {
     "end_time": "2022-05-13T07:35:05.049652Z",
     "start_time": "2022-05-13T07:35:05.036004Z"
    },
    "scrolled": true
   },
   "outputs": [
    {
     "data": {
      "text/plain": [
       "array([[0.71378404]], dtype=float32)"
      ]
     },
     "execution_count": 58,
     "metadata": {},
     "output_type": "execute_result"
    }
   ],
   "source": [
    "model_2.layers[0].get_weights()[0]"
   ]
  },
  {
   "cell_type": "markdown",
   "metadata": {},
   "source": [
    "#### Bias"
   ]
  },
  {
   "cell_type": "code",
   "execution_count": 59,
   "metadata": {
    "ExecuteTime": {
     "end_time": "2022-05-13T07:35:05.065687Z",
     "start_time": "2022-05-13T07:35:05.052209Z"
    }
   },
   "outputs": [
    {
     "data": {
      "text/plain": [
       "array([7.5694532], dtype=float32)"
      ]
     },
     "execution_count": 59,
     "metadata": {},
     "output_type": "execute_result"
    }
   ],
   "source": [
    "model_2.layers[0].get_weights()[1]"
   ]
  },
  {
   "cell_type": "markdown",
   "metadata": {},
   "source": [
    "## Change Optimizer"
   ]
  },
  {
   "cell_type": "code",
   "execution_count": 60,
   "metadata": {
    "ExecuteTime": {
     "end_time": "2022-05-13T07:37:02.646608Z",
     "start_time": "2022-05-13T07:35:05.068078Z"
    },
    "scrolled": true
   },
   "outputs": [
    {
     "data": {
      "image/png": "[encoded data removed]",
      "text/plain": [
       "<Figure size 432x288 with 1 Axes>"
      ]
     },
     "metadata": {
      "needs_background": "light"
     },
     "output_type": "display_data"
    }
   ],
   "source": [
    "#Set Random Seed\n",
    "tf.random.set_seed(42)\n",
    "\n",
    "#Create Model\n",
    "model_3 = tf.keras.Sequential([\n",
    "  tf.keras.layers.Dense(1)\n",
    "])\n",
    "\n",
    "#Compiling Model\n",
    "model_3.compile(loss= \"mae\",\n",
    "              optimizer=tf.keras.optimizers.Adam(),\n",
    "              metrics=[\"mae\"])\n",
    "\n",
    "#Callbacks\n",
    "callback = tf.keras.callbacks.EarlyStopping(monitor='loss', patience=5)\n",
    "\n",
    "#Fitting Model\n",
    "history3 = model_3.fit(tf.expand_dims(x_train_iso_t,axis=-1),y_train_iso,epochs=40,validation_split=0.3,batch_size = 32,callbacks=[callback],verbose = 0)\n",
    "loss(history3)"
   ]
  },
  {
   "cell_type": "code",
   "execution_count": 61,
   "metadata": {
    "ExecuteTime": {
     "end_time": "2022-05-13T07:37:02.678525Z",
     "start_time": "2022-05-13T07:37:02.646930Z"
    }
   },
   "outputs": [
    {
     "data": {
      "text/html": [
       "<div>\n",
       "<style scoped>\n",
       "    .dataframe tbody tr th:only-of-type {\n",
       "        vertical-align: middle;\n",
       "    }\n",
       "\n",
       "    .dataframe tbody tr th {\n",
       "        vertical-align: top;\n",
       "    }\n",
       "\n",
       "    .dataframe thead th {\n",
       "        text-align: right;\n",
       "    }\n",
       "</style>\n",
       "<table border=\"1\" class=\"dataframe\">\n",
       "  <thead>\n",
       "    <tr style=\"text-align: right;\">\n",
       "      <th></th>\n",
       "      <th>loss</th>\n",
       "      <th>mae</th>\n",
       "      <th>val_loss</th>\n",
       "      <th>val_mae</th>\n",
       "    </tr>\n",
       "  </thead>\n",
       "  <tbody>\n",
       "    <tr>\n",
       "      <th>17</th>\n",
       "      <td>3.175527</td>\n",
       "      <td>3.175527</td>\n",
       "      <td>3.133448</td>\n",
       "      <td>3.133448</td>\n",
       "    </tr>\n",
       "    <tr>\n",
       "      <th>30</th>\n",
       "      <td>3.175532</td>\n",
       "      <td>3.175532</td>\n",
       "      <td>3.133452</td>\n",
       "      <td>3.133452</td>\n",
       "    </tr>\n",
       "    <tr>\n",
       "      <th>20</th>\n",
       "      <td>3.175549</td>\n",
       "      <td>3.175549</td>\n",
       "      <td>3.133454</td>\n",
       "      <td>3.133454</td>\n",
       "    </tr>\n",
       "    <tr>\n",
       "      <th>15</th>\n",
       "      <td>3.175583</td>\n",
       "      <td>3.175583</td>\n",
       "      <td>3.133456</td>\n",
       "      <td>3.133456</td>\n",
       "    </tr>\n",
       "    <tr>\n",
       "      <th>18</th>\n",
       "      <td>3.175551</td>\n",
       "      <td>3.175551</td>\n",
       "      <td>3.133458</td>\n",
       "      <td>3.133458</td>\n",
       "    </tr>\n",
       "  </tbody>\n",
       "</table>\n",
       "</div>"
      ],
      "text/plain": [
       "        loss       mae  val_loss   val_mae\n",
       "17  3.175527  3.175527  3.133448  3.133448\n",
       "30  3.175532  3.175532  3.133452  3.133452\n",
       "20  3.175549  3.175549  3.133454  3.133454\n",
       "15  3.175583  3.175583  3.133456  3.133456\n",
       "18  3.175551  3.175551  3.133458  3.133458"
      ]
     },
     "execution_count": 61,
     "metadata": {},
     "output_type": "execute_result"
    }
   ],
   "source": [
    "df_3 = pd.DataFrame(history3.history).sort_values(\"val_mae\",ascending=True).head()\n",
    "df_3"
   ]
  },
  {
   "cell_type": "markdown",
   "metadata": {},
   "source": [
    "## Add Activation"
   ]
  },
  {
   "cell_type": "code",
   "execution_count": 62,
   "metadata": {
    "ExecuteTime": {
     "end_time": "2022-05-13T07:38:10.477981Z",
     "start_time": "2022-05-13T07:37:02.681330Z"
    }
   },
   "outputs": [
    {
     "data": {
      "image/png": "[encoded data removed]",
      "text/plain": [
       "<Figure size 432x288 with 1 Axes>"
      ]
     },
     "metadata": {
      "needs_background": "light"
     },
     "output_type": "display_data"
    }
   ],
   "source": [
    "#Set Random Seed\n",
    "tf.random.set_seed(42)\n",
    "\n",
    "#Create Model\n",
    "model_5 = tf.keras.Sequential([\n",
    "    tf.keras.layers.Dense(10,input_shape=[6],name=\"input_layer\"),\n",
    "    tf.keras.layers.Dense(1)\n",
    "])\n",
    "\n",
    "#Compiling Model\n",
    "model_5.compile(loss= tf.keras.losses.mae,\n",
    "              optimizer=tf.keras.optimizers.Adam(),\n",
    "              metrics=[\"mae\"])\n",
    "\n",
    "#Callbacks\n",
    "callback = tf.keras.callbacks.EarlyStopping(monitor='loss', patience=5)\n",
    "\n",
    "#Fitting Model\n",
    "history5 = model_5.fit(tf.expand_dims(x_train_iso_t,axis=-1),y_train_iso,epochs=40,validation_split=0.3,batch_size = 32,callbacks=[callback],verbose = 0)\n",
    "\n",
    "loss(history5)"
   ]
  },
  {
   "cell_type": "code",
   "execution_count": 63,
   "metadata": {
    "ExecuteTime": {
     "end_time": "2022-05-13T07:38:10.508579Z",
     "start_time": "2022-05-13T07:38:10.477981Z"
    }
   },
   "outputs": [
    {
     "data": {
      "text/html": [
       "<div>\n",
       "<style scoped>\n",
       "    .dataframe tbody tr th:only-of-type {\n",
       "        vertical-align: middle;\n",
       "    }\n",
       "\n",
       "    .dataframe tbody tr th {\n",
       "        vertical-align: top;\n",
       "    }\n",
       "\n",
       "    .dataframe thead th {\n",
       "        text-align: right;\n",
       "    }\n",
       "</style>\n",
       "<table border=\"1\" class=\"dataframe\">\n",
       "  <thead>\n",
       "    <tr style=\"text-align: right;\">\n",
       "      <th></th>\n",
       "      <th>loss</th>\n",
       "      <th>mae</th>\n",
       "      <th>val_loss</th>\n",
       "      <th>val_mae</th>\n",
       "    </tr>\n",
       "  </thead>\n",
       "  <tbody>\n",
       "    <tr>\n",
       "      <th>16</th>\n",
       "      <td>1.760983</td>\n",
       "      <td>1.760983</td>\n",
       "      <td>1.751723</td>\n",
       "      <td>1.751723</td>\n",
       "    </tr>\n",
       "    <tr>\n",
       "      <th>9</th>\n",
       "      <td>1.761316</td>\n",
       "      <td>1.761316</td>\n",
       "      <td>1.751917</td>\n",
       "      <td>1.751917</td>\n",
       "    </tr>\n",
       "    <tr>\n",
       "      <th>11</th>\n",
       "      <td>1.760978</td>\n",
       "      <td>1.760978</td>\n",
       "      <td>1.752041</td>\n",
       "      <td>1.752041</td>\n",
       "    </tr>\n",
       "    <tr>\n",
       "      <th>7</th>\n",
       "      <td>1.761003</td>\n",
       "      <td>1.761003</td>\n",
       "      <td>1.752194</td>\n",
       "      <td>1.752194</td>\n",
       "    </tr>\n",
       "    <tr>\n",
       "      <th>8</th>\n",
       "      <td>1.761451</td>\n",
       "      <td>1.761451</td>\n",
       "      <td>1.752942</td>\n",
       "      <td>1.752942</td>\n",
       "    </tr>\n",
       "  </tbody>\n",
       "</table>\n",
       "</div>"
      ],
      "text/plain": [
       "        loss       mae  val_loss   val_mae\n",
       "16  1.760983  1.760983  1.751723  1.751723\n",
       "9   1.761316  1.761316  1.751917  1.751917\n",
       "11  1.760978  1.760978  1.752041  1.752041\n",
       "7   1.761003  1.761003  1.752194  1.752194\n",
       "8   1.761451  1.761451  1.752942  1.752942"
      ]
     },
     "execution_count": 63,
     "metadata": {},
     "output_type": "execute_result"
    }
   ],
   "source": [
    "df_5 = pd.DataFrame(history5.history).sort_values(\"val_mae\",ascending=True).head()\n",
    "df_5"
   ]
  },
  {
   "cell_type": "markdown",
   "metadata": {},
   "source": [
    "## Change Activation"
   ]
  },
  {
   "cell_type": "code",
   "execution_count": 64,
   "metadata": {
    "ExecuteTime": {
     "end_time": "2022-05-13T07:40:53.335516Z",
     "start_time": "2022-05-13T07:38:10.511781Z"
    }
   },
   "outputs": [
    {
     "data": {
      "image/png": "[encoded data removed]",
      "text/plain": [
       "<Figure size 432x288 with 1 Axes>"
      ]
     },
     "metadata": {
      "needs_background": "light"
     },
     "output_type": "display_data"
    }
   ],
   "source": [
    "#Set Random Seed\n",
    "tf.random.set_seed(42)\n",
    "\n",
    "#Create Model\n",
    "model_6 = tf.keras.Sequential([\n",
    "    tf.keras.layers.Dense(10,input_shape=[6], activation='relu',name=\"input_layer\"),\n",
    "    tf.keras.layers.Dense(1)\n",
    "])\n",
    "\n",
    "#Compiling Model\n",
    "model_6.compile(loss= tf.keras.losses.mae,\n",
    "              optimizer=tf.keras.optimizers.Adam(),\n",
    "              metrics=[\"mae\"])\n",
    "\n",
    "#Callbacks\n",
    "callback = tf.keras.callbacks.EarlyStopping(monitor='loss', patience=5)\n",
    "\n",
    "#Fitting Model\n",
    "history6 = model_6.fit(tf.expand_dims(x_train_iso_t,axis=-1),y_train_iso,epochs=40,validation_split=0.3,batch_size = 32,callbacks=[callback],verbose = 0)\n",
    "\n",
    "loss(history6)"
   ]
  },
  {
   "cell_type": "code",
   "execution_count": 65,
   "metadata": {
    "ExecuteTime": {
     "end_time": "2022-05-13T07:40:53.366383Z",
     "start_time": "2022-05-13T07:40:53.338312Z"
    }
   },
   "outputs": [
    {
     "data": {
      "text/html": [
       "<div>\n",
       "<style scoped>\n",
       "    .dataframe tbody tr th:only-of-type {\n",
       "        vertical-align: middle;\n",
       "    }\n",
       "\n",
       "    .dataframe tbody tr th {\n",
       "        vertical-align: top;\n",
       "    }\n",
       "\n",
       "    .dataframe thead th {\n",
       "        text-align: right;\n",
       "    }\n",
       "</style>\n",
       "<table border=\"1\" class=\"dataframe\">\n",
       "  <thead>\n",
       "    <tr style=\"text-align: right;\">\n",
       "      <th></th>\n",
       "      <th>loss</th>\n",
       "      <th>mae</th>\n",
       "      <th>val_loss</th>\n",
       "      <th>val_mae</th>\n",
       "    </tr>\n",
       "  </thead>\n",
       "  <tbody>\n",
       "    <tr>\n",
       "      <th>37</th>\n",
       "      <td>1.723926</td>\n",
       "      <td>1.723926</td>\n",
       "      <td>1.714500</td>\n",
       "      <td>1.714500</td>\n",
       "    </tr>\n",
       "    <tr>\n",
       "      <th>38</th>\n",
       "      <td>1.723852</td>\n",
       "      <td>1.723852</td>\n",
       "      <td>1.715493</td>\n",
       "      <td>1.715493</td>\n",
       "    </tr>\n",
       "    <tr>\n",
       "      <th>31</th>\n",
       "      <td>1.725958</td>\n",
       "      <td>1.725958</td>\n",
       "      <td>1.716329</td>\n",
       "      <td>1.716329</td>\n",
       "    </tr>\n",
       "    <tr>\n",
       "      <th>29</th>\n",
       "      <td>1.726486</td>\n",
       "      <td>1.726486</td>\n",
       "      <td>1.716552</td>\n",
       "      <td>1.716552</td>\n",
       "    </tr>\n",
       "    <tr>\n",
       "      <th>32</th>\n",
       "      <td>1.725586</td>\n",
       "      <td>1.725586</td>\n",
       "      <td>1.716768</td>\n",
       "      <td>1.716768</td>\n",
       "    </tr>\n",
       "  </tbody>\n",
       "</table>\n",
       "</div>"
      ],
      "text/plain": [
       "        loss       mae  val_loss   val_mae\n",
       "37  1.723926  1.723926  1.714500  1.714500\n",
       "38  1.723852  1.723852  1.715493  1.715493\n",
       "31  1.725958  1.725958  1.716329  1.716329\n",
       "29  1.726486  1.726486  1.716552  1.716552\n",
       "32  1.725586  1.725586  1.716768  1.716768"
      ]
     },
     "execution_count": 65,
     "metadata": {},
     "output_type": "execute_result"
    }
   ],
   "source": [
    "df_6 = pd.DataFrame(history6.history).sort_values(\"val_mae\",ascending=True).head()\n",
    "df_6"
   ]
  },
  {
   "cell_type": "markdown",
   "metadata": {
    "ExecuteTime": {
     "end_time": "2022-05-08T14:04:40.910168Z",
     "start_time": "2022-05-08T14:04:40.897152Z"
    }
   },
   "source": [
    "## Add Hidden Layer"
   ]
  },
  {
   "cell_type": "code",
   "execution_count": 66,
   "metadata": {
    "ExecuteTime": {
     "end_time": "2022-05-13T07:43:46.629328Z",
     "start_time": "2022-05-13T07:40:53.369230Z"
    }
   },
   "outputs": [
    {
     "data": {
      "image/png": "[encoded data removed]",
      "text/plain": [
       "<Figure size 432x288 with 1 Axes>"
      ]
     },
     "metadata": {
      "needs_background": "light"
     },
     "output_type": "display_data"
    }
   ],
   "source": [
    "#Set Random Seed\n",
    "tf.random.set_seed(42)\n",
    "\n",
    "#Create Model\n",
    "model_7 = tf.keras.Sequential([\n",
    "    tf.keras.layers.Dense(10,input_shape=[6], activation='relu',name=\"input_layer\"),\n",
    "    tf.keras.layers.Dense(10, activation='sigmoid'),\n",
    "    tf.keras.layers.Dense(1,name=\"output_layer\")\n",
    "])\n",
    "\n",
    "#Compiling Model\n",
    "model_7.compile(loss= tf.keras.losses.mae,\n",
    "              optimizer=tf.keras.optimizers.Adam(),\n",
    "              metrics=[\"mae\"])\n",
    "\n",
    "#Callbacks\n",
    "callback = tf.keras.callbacks.EarlyStopping(monitor='loss', patience=5)\n",
    "\n",
    "#Fitting Model\n",
    "history7 = model_7.fit(tf.expand_dims(x_train_iso_t,axis=-1),y_train_iso,epochs=40,validation_split=0.3,batch_size = 32,callbacks=[callback],verbose = 0)\n",
    "\n",
    "loss(history7)"
   ]
  },
  {
   "cell_type": "code",
   "execution_count": 67,
   "metadata": {
    "ExecuteTime": {
     "end_time": "2022-05-13T07:43:46.666166Z",
     "start_time": "2022-05-13T07:43:46.638200Z"
    },
    "scrolled": true
   },
   "outputs": [
    {
     "data": {
      "text/html": [
       "<div>\n",
       "<style scoped>\n",
       "    .dataframe tbody tr th:only-of-type {\n",
       "        vertical-align: middle;\n",
       "    }\n",
       "\n",
       "    .dataframe tbody tr th {\n",
       "        vertical-align: top;\n",
       "    }\n",
       "\n",
       "    .dataframe thead th {\n",
       "        text-align: right;\n",
       "    }\n",
       "</style>\n",
       "<table border=\"1\" class=\"dataframe\">\n",
       "  <thead>\n",
       "    <tr style=\"text-align: right;\">\n",
       "      <th></th>\n",
       "      <th>loss</th>\n",
       "      <th>mae</th>\n",
       "      <th>val_loss</th>\n",
       "      <th>val_mae</th>\n",
       "    </tr>\n",
       "  </thead>\n",
       "  <tbody>\n",
       "    <tr>\n",
       "      <th>38</th>\n",
       "      <td>1.709494</td>\n",
       "      <td>1.709494</td>\n",
       "      <td>1.698475</td>\n",
       "      <td>1.698475</td>\n",
       "    </tr>\n",
       "    <tr>\n",
       "      <th>37</th>\n",
       "      <td>1.709827</td>\n",
       "      <td>1.709827</td>\n",
       "      <td>1.698515</td>\n",
       "      <td>1.698515</td>\n",
       "    </tr>\n",
       "    <tr>\n",
       "      <th>28</th>\n",
       "      <td>1.715281</td>\n",
       "      <td>1.715281</td>\n",
       "      <td>1.701945</td>\n",
       "      <td>1.701945</td>\n",
       "    </tr>\n",
       "    <tr>\n",
       "      <th>31</th>\n",
       "      <td>1.714303</td>\n",
       "      <td>1.714303</td>\n",
       "      <td>1.702038</td>\n",
       "      <td>1.702038</td>\n",
       "    </tr>\n",
       "    <tr>\n",
       "      <th>34</th>\n",
       "      <td>1.711926</td>\n",
       "      <td>1.711926</td>\n",
       "      <td>1.702863</td>\n",
       "      <td>1.702863</td>\n",
       "    </tr>\n",
       "  </tbody>\n",
       "</table>\n",
       "</div>"
      ],
      "text/plain": [
       "        loss       mae  val_loss   val_mae\n",
       "38  1.709494  1.709494  1.698475  1.698475\n",
       "37  1.709827  1.709827  1.698515  1.698515\n",
       "28  1.715281  1.715281  1.701945  1.701945\n",
       "31  1.714303  1.714303  1.702038  1.702038\n",
       "34  1.711926  1.711926  1.702863  1.702863"
      ]
     },
     "execution_count": 67,
     "metadata": {},
     "output_type": "execute_result"
    }
   ],
   "source": [
    "df_7 = pd.DataFrame(history7.history).sort_values(\"val_mae\",ascending=True).head()\n",
    "df_7"
   ]
  },
  {
   "cell_type": "markdown",
   "metadata": {},
   "source": [
    "## Add Number of Epochs"
   ]
  },
  {
   "cell_type": "code",
   "execution_count": 68,
   "metadata": {
    "ExecuteTime": {
     "end_time": "2022-05-13T07:49:52.461011Z",
     "start_time": "2022-05-13T07:43:46.670397Z"
    }
   },
   "outputs": [
    {
     "data": {
      "image/png": "[encoded data removed]",
      "text/plain": [
       "<Figure size 432x288 with 1 Axes>"
      ]
     },
     "metadata": {
      "needs_background": "light"
     },
     "output_type": "display_data"
    }
   ],
   "source": [
    "#Set Random Seed\n",
    "tf.random.set_seed(42)\n",
    "\n",
    "#Create Model\n",
    "model_8 = tf.keras.Sequential([\n",
    "    tf.keras.layers.Dense(10,input_shape=[6], activation='relu',name=\"input_layer\"),\n",
    "    tf.keras.layers.Dense(10, activation='sigmoid'),\n",
    "    tf.keras.layers.Dense(1,name=\"output_layer\")\n",
    "],name = 'neural_network_isolation')\n",
    "\n",
    "#Compiling Model\n",
    "model_8.compile(loss= tf.keras.losses.mae,\n",
    "              optimizer=tf.keras.optimizers.Adam(),\n",
    "              metrics=[\"mae\"])\n",
    "\n",
    "#Callbacks\n",
    "callback = tf.keras.callbacks.EarlyStopping(monitor='loss', patience=5)\n",
    "\n",
    "#Fitting Model\n",
    "history8 = model_8.fit(tf.expand_dims(x_train_iso_t,axis=-1),y_train_iso,epochs=100,validation_split=0.3,batch_size = 32,callbacks=[callback],verbose = 0)\n",
    "\n",
    "loss(history8)"
   ]
  },
  {
   "cell_type": "code",
   "execution_count": 69,
   "metadata": {
    "ExecuteTime": {
     "end_time": "2022-05-13T07:49:52.491280Z",
     "start_time": "2022-05-13T07:49:52.463001Z"
    }
   },
   "outputs": [
    {
     "data": {
      "text/html": [
       "<div>\n",
       "<style scoped>\n",
       "    .dataframe tbody tr th:only-of-type {\n",
       "        vertical-align: middle;\n",
       "    }\n",
       "\n",
       "    .dataframe tbody tr th {\n",
       "        vertical-align: top;\n",
       "    }\n",
       "\n",
       "    .dataframe thead th {\n",
       "        text-align: right;\n",
       "    }\n",
       "</style>\n",
       "<table border=\"1\" class=\"dataframe\">\n",
       "  <thead>\n",
       "    <tr style=\"text-align: right;\">\n",
       "      <th></th>\n",
       "      <th>loss</th>\n",
       "      <th>mae</th>\n",
       "      <th>val_loss</th>\n",
       "      <th>val_mae</th>\n",
       "    </tr>\n",
       "  </thead>\n",
       "  <tbody>\n",
       "    <tr>\n",
       "      <th>98</th>\n",
       "      <td>1.681334</td>\n",
       "      <td>1.681334</td>\n",
       "      <td>1.671631</td>\n",
       "      <td>1.671631</td>\n",
       "    </tr>\n",
       "    <tr>\n",
       "      <th>97</th>\n",
       "      <td>1.682088</td>\n",
       "      <td>1.682088</td>\n",
       "      <td>1.672622</td>\n",
       "      <td>1.672622</td>\n",
       "    </tr>\n",
       "    <tr>\n",
       "      <th>95</th>\n",
       "      <td>1.682653</td>\n",
       "      <td>1.682653</td>\n",
       "      <td>1.673387</td>\n",
       "      <td>1.673387</td>\n",
       "    </tr>\n",
       "    <tr>\n",
       "      <th>94</th>\n",
       "      <td>1.683146</td>\n",
       "      <td>1.683146</td>\n",
       "      <td>1.673949</td>\n",
       "      <td>1.673949</td>\n",
       "    </tr>\n",
       "    <tr>\n",
       "      <th>99</th>\n",
       "      <td>1.681038</td>\n",
       "      <td>1.681038</td>\n",
       "      <td>1.675065</td>\n",
       "      <td>1.675065</td>\n",
       "    </tr>\n",
       "  </tbody>\n",
       "</table>\n",
       "</div>"
      ],
      "text/plain": [
       "        loss       mae  val_loss   val_mae\n",
       "98  1.681334  1.681334  1.671631  1.671631\n",
       "97  1.682088  1.682088  1.672622  1.672622\n",
       "95  1.682653  1.682653  1.673387  1.673387\n",
       "94  1.683146  1.683146  1.673949  1.673949\n",
       "99  1.681038  1.681038  1.675065  1.675065"
      ]
     },
     "execution_count": 69,
     "metadata": {},
     "output_type": "execute_result"
    }
   ],
   "source": [
    "df_8 = pd.DataFrame(history8.history).sort_values(\"val_mae\",ascending=True).head()\n",
    "df_8"
   ]
  },
  {
   "cell_type": "markdown",
   "metadata": {},
   "source": [
    "## Adjust Learning Rate"
   ]
  },
  {
   "cell_type": "code",
   "execution_count": 70,
   "metadata": {
    "ExecuteTime": {
     "end_time": "2022-05-13T07:52:53.872038Z",
     "start_time": "2022-05-13T07:49:52.493107Z"
    }
   },
   "outputs": [
    {
     "data": {
      "image/png": "[encoded data removed]",
      "text/plain": [
       "<Figure size 432x288 with 1 Axes>"
      ]
     },
     "metadata": {
      "needs_background": "light"
     },
     "output_type": "display_data"
    }
   ],
   "source": [
    "#Set Random Seed\n",
    "tf.random.set_seed(42)\n",
    "\n",
    "#Create Model\n",
    "model_10 = tf.keras.Sequential([\n",
    "    tf.keras.layers.Dense(10,input_shape=[6], activation='relu',name=\"input_layer\"),\n",
    "    tf.keras.layers.Dense(10, activation='sigmoid'),\n",
    "    tf.keras.layers.Dense(1,name=\"output_layer\")\n",
    "],name = 'neural_network_isolation')\n",
    "\n",
    "#Compiling Model\n",
    "model_10.compile(loss= tf.keras.losses.mae,\n",
    "              optimizer=tf.keras.optimizers.Adam(),\n",
    "              metrics=[\"mae\"])\n",
    "\n",
    "#Callbacks\n",
    "lr_scheduler = tf.keras.callbacks.LearningRateScheduler(lambda epoch: 1e-4 * 10**(epoch/20))\n",
    "callback = tf.keras.callbacks.EarlyStopping(monitor='loss', patience=5)\n",
    "\n",
    "#Fitting Model\n",
    "history10 = model_10.fit(tf.expand_dims(x_train_iso_t,axis=-1),y_train_iso,\n",
    "                       epochs=100,\n",
    "                       validation_split=0.3,\n",
    "                       batch_size = 32,\n",
    "                       callbacks=[callback,lr_scheduler],verbose = 0)\n",
    "\n",
    "loss_lr(history10)"
   ]
  },
  {
   "cell_type": "code",
   "execution_count": 71,
   "metadata": {
    "ExecuteTime": {
     "end_time": "2022-05-13T07:52:53.902795Z",
     "start_time": "2022-05-13T07:52:53.874575Z"
    }
   },
   "outputs": [
    {
     "data": {
      "text/html": [
       "<div>\n",
       "<style scoped>\n",
       "    .dataframe tbody tr th:only-of-type {\n",
       "        vertical-align: middle;\n",
       "    }\n",
       "\n",
       "    .dataframe tbody tr th {\n",
       "        vertical-align: top;\n",
       "    }\n",
       "\n",
       "    .dataframe thead th {\n",
       "        text-align: right;\n",
       "    }\n",
       "</style>\n",
       "<table border=\"1\" class=\"dataframe\">\n",
       "  <thead>\n",
       "    <tr style=\"text-align: right;\">\n",
       "      <th></th>\n",
       "      <th>loss</th>\n",
       "      <th>mae</th>\n",
       "      <th>val_loss</th>\n",
       "      <th>val_mae</th>\n",
       "      <th>lr</th>\n",
       "    </tr>\n",
       "  </thead>\n",
       "  <tbody>\n",
       "    <tr>\n",
       "      <th>37</th>\n",
       "      <td>1.716605</td>\n",
       "      <td>1.716605</td>\n",
       "      <td>1.695637</td>\n",
       "      <td>1.695637</td>\n",
       "      <td>0.007079</td>\n",
       "    </tr>\n",
       "    <tr>\n",
       "      <th>33</th>\n",
       "      <td>1.718291</td>\n",
       "      <td>1.718291</td>\n",
       "      <td>1.702608</td>\n",
       "      <td>1.702608</td>\n",
       "      <td>0.004467</td>\n",
       "    </tr>\n",
       "    <tr>\n",
       "      <th>41</th>\n",
       "      <td>1.719083</td>\n",
       "      <td>1.719083</td>\n",
       "      <td>1.704262</td>\n",
       "      <td>1.704262</td>\n",
       "      <td>0.011220</td>\n",
       "    </tr>\n",
       "    <tr>\n",
       "      <th>39</th>\n",
       "      <td>1.717610</td>\n",
       "      <td>1.717610</td>\n",
       "      <td>1.704416</td>\n",
       "      <td>1.704416</td>\n",
       "      <td>0.008913</td>\n",
       "    </tr>\n",
       "    <tr>\n",
       "      <th>38</th>\n",
       "      <td>1.717350</td>\n",
       "      <td>1.717350</td>\n",
       "      <td>1.704880</td>\n",
       "      <td>1.704880</td>\n",
       "      <td>0.007943</td>\n",
       "    </tr>\n",
       "  </tbody>\n",
       "</table>\n",
       "</div>"
      ],
      "text/plain": [
       "        loss       mae  val_loss   val_mae        lr\n",
       "37  1.716605  1.716605  1.695637  1.695637  0.007079\n",
       "33  1.718291  1.718291  1.702608  1.702608  0.004467\n",
       "41  1.719083  1.719083  1.704262  1.704262  0.011220\n",
       "39  1.717610  1.717610  1.704416  1.704416  0.008913\n",
       "38  1.717350  1.717350  1.704880  1.704880  0.007943"
      ]
     },
     "execution_count": 71,
     "metadata": {},
     "output_type": "execute_result"
    }
   ],
   "source": [
    "df_10 = pd.DataFrame(history10.history).sort_values(\"val_mae\",ascending=True).head()\n",
    "df_10"
   ]
  },
  {
   "cell_type": "code",
   "execution_count": 72,
   "metadata": {
    "ExecuteTime": {
     "end_time": "2022-05-13T07:52:55.387314Z",
     "start_time": "2022-05-13T07:52:53.906178Z"
    }
   },
   "outputs": [
    {
     "data": {
      "image/png": "[encoded data removed]",
      "text/plain": [
       "<Figure size 720x504 with 1 Axes>"
      ]
     },
     "metadata": {
      "needs_background": "light"
     },
     "output_type": "display_data"
    }
   ],
   "source": [
    "lr_plot(history10)"
   ]
  },
  {
   "cell_type": "markdown",
   "metadata": {},
   "source": [
    "lr = 0.002"
   ]
  },
  {
   "cell_type": "markdown",
   "metadata": {},
   "source": [
    "## Model Neural Network"
   ]
  },
  {
   "cell_type": "markdown",
   "metadata": {},
   "source": [
    "### Create Model"
   ]
  },
  {
   "cell_type": "code",
   "execution_count": 73,
   "metadata": {
    "ExecuteTime": {
     "end_time": "2022-05-13T07:56:02.531369Z",
     "start_time": "2022-05-13T07:52:55.390193Z"
    }
   },
   "outputs": [
    {
     "data": {
      "image/png": "[encoded data removed]",
      "text/plain": [
       "<Figure size 432x288 with 1 Axes>"
      ]
     },
     "metadata": {
      "needs_background": "light"
     },
     "output_type": "display_data"
    }
   ],
   "source": [
    "#Set Random Seed\n",
    "tf.random.set_seed(42)\n",
    "\n",
    "#Create Model\n",
    "model_11 = tf.keras.Sequential([\n",
    "    tf.keras.layers.Dense(10,input_shape=[6], activation='relu',name=\"input_layer\"),\n",
    "    tf.keras.layers.Dense(10, activation='sigmoid'),\n",
    "    tf.keras.layers.Dense(1,name=\"output_layer\")\n",
    "],name = 'neural_network_isolation')\n",
    "\n",
    "#Compiling Model\n",
    "model_11.compile(loss= tf.keras.losses.mae,\n",
    "              optimizer=tf.keras.optimizers.Adam(learning_rate = 0.002),\n",
    "              metrics=[\"mae\"])\n",
    "\n",
    "#Callbacks\n",
    "callback = tf.keras.callbacks.EarlyStopping(monitor='loss', patience=5)\n",
    "\n",
    "#Fitting Model\n",
    "history11 = model_11.fit(tf.expand_dims(x_train_iso_t,axis=-1),y_train_iso,\n",
    "                       epochs=100,\n",
    "                       validation_split=0.3,\n",
    "                       batch_size = 32,\n",
    "                       callbacks=[callback,lr_scheduler],verbose = 0)\n",
    "\n",
    "loss_lr(history11)"
   ]
  },
  {
   "cell_type": "code",
   "execution_count": 74,
   "metadata": {
    "ExecuteTime": {
     "end_time": "2022-05-13T07:56:02.562351Z",
     "start_time": "2022-05-13T07:56:02.531369Z"
    }
   },
   "outputs": [
    {
     "data": {
      "text/html": [
       "<div>\n",
       "<style scoped>\n",
       "    .dataframe tbody tr th:only-of-type {\n",
       "        vertical-align: middle;\n",
       "    }\n",
       "\n",
       "    .dataframe tbody tr th {\n",
       "        vertical-align: top;\n",
       "    }\n",
       "\n",
       "    .dataframe thead th {\n",
       "        text-align: right;\n",
       "    }\n",
       "</style>\n",
       "<table border=\"1\" class=\"dataframe\">\n",
       "  <thead>\n",
       "    <tr style=\"text-align: right;\">\n",
       "      <th></th>\n",
       "      <th>loss</th>\n",
       "      <th>mae</th>\n",
       "      <th>val_loss</th>\n",
       "      <th>val_mae</th>\n",
       "      <th>lr</th>\n",
       "    </tr>\n",
       "  </thead>\n",
       "  <tbody>\n",
       "    <tr>\n",
       "      <th>37</th>\n",
       "      <td>1.716605</td>\n",
       "      <td>1.716605</td>\n",
       "      <td>1.695637</td>\n",
       "      <td>1.695637</td>\n",
       "      <td>0.007079</td>\n",
       "    </tr>\n",
       "    <tr>\n",
       "      <th>33</th>\n",
       "      <td>1.718291</td>\n",
       "      <td>1.718291</td>\n",
       "      <td>1.702608</td>\n",
       "      <td>1.702608</td>\n",
       "      <td>0.004467</td>\n",
       "    </tr>\n",
       "    <tr>\n",
       "      <th>41</th>\n",
       "      <td>1.719083</td>\n",
       "      <td>1.719083</td>\n",
       "      <td>1.704262</td>\n",
       "      <td>1.704262</td>\n",
       "      <td>0.011220</td>\n",
       "    </tr>\n",
       "    <tr>\n",
       "      <th>39</th>\n",
       "      <td>1.717610</td>\n",
       "      <td>1.717610</td>\n",
       "      <td>1.704416</td>\n",
       "      <td>1.704416</td>\n",
       "      <td>0.008913</td>\n",
       "    </tr>\n",
       "    <tr>\n",
       "      <th>38</th>\n",
       "      <td>1.717350</td>\n",
       "      <td>1.717350</td>\n",
       "      <td>1.704880</td>\n",
       "      <td>1.704880</td>\n",
       "      <td>0.007943</td>\n",
       "    </tr>\n",
       "  </tbody>\n",
       "</table>\n",
       "</div>"
      ],
      "text/plain": [
       "        loss       mae  val_loss   val_mae        lr\n",
       "37  1.716605  1.716605  1.695637  1.695637  0.007079\n",
       "33  1.718291  1.718291  1.702608  1.702608  0.004467\n",
       "41  1.719083  1.719083  1.704262  1.704262  0.011220\n",
       "39  1.717610  1.717610  1.704416  1.704416  0.008913\n",
       "38  1.717350  1.717350  1.704880  1.704880  0.007943"
      ]
     },
     "execution_count": 74,
     "metadata": {},
     "output_type": "execute_result"
    }
   ],
   "source": [
    "df_11 = pd.DataFrame(history11.history).sort_values(\"val_mae\",ascending=True).head()\n",
    "df_11"
   ]
  },
  {
   "cell_type": "markdown",
   "metadata": {},
   "source": [
    "### Prediction"
   ]
  },
  {
   "cell_type": "code",
   "execution_count": 75,
   "metadata": {
    "ExecuteTime": {
     "end_time": "2022-05-13T07:56:05.403334Z",
     "start_time": "2022-05-13T07:56:02.564851Z"
    }
   },
   "outputs": [
    {
     "name": "stdout",
     "output_type": "stream",
     "text": [
      "1186/1186 [==============================] - 3s 2ms/step - loss: 1.6891 - mae: 1.6891\n"
     ]
    }
   ],
   "source": [
    "mod_dl = model_8.evaluate(x_test_iso_t,y_test_iso,batch_size=32)"
   ]
  },
  {
   "cell_type": "markdown",
   "metadata": {},
   "source": [
    "### Model Summary"
   ]
  },
  {
   "cell_type": "code",
   "execution_count": 76,
   "metadata": {
    "ExecuteTime": {
     "end_time": "2022-05-13T07:56:05.434010Z",
     "start_time": "2022-05-13T07:56:05.404404Z"
    },
    "scrolled": true
   },
   "outputs": [
    {
     "name": "stdout",
     "output_type": "stream",
     "text": [
      "Model: \"neural_network_isolation\"\n",
      "_________________________________________________________________\n",
      " Layer (type)                Output Shape              Param #   \n",
      "=================================================================\n",
      " input_layer (Dense)         (None, 10)                70        \n",
      "                                                                 \n",
      " dense_6 (Dense)             (None, 10)                110       \n",
      "                                                                 \n",
      " output_layer (Dense)        (None, 1)                 11        \n",
      "                                                                 \n",
      "=================================================================\n",
      "Total params: 191\n",
      "Trainable params: 191\n",
      "Non-trainable params: 0\n",
      "_________________________________________________________________\n"
     ]
    }
   ],
   "source": [
    "model_8.summary()"
   ]
  },
  {
   "cell_type": "markdown",
   "metadata": {},
   "source": [
    "### Weight"
   ]
  },
  {
   "cell_type": "code",
   "execution_count": 77,
   "metadata": {
    "ExecuteTime": {
     "end_time": "2022-05-13T07:56:05.465809Z",
     "start_time": "2022-05-13T07:56:05.436106Z"
    },
    "scrolled": true
   },
   "outputs": [
    {
     "name": "stdout",
     "output_type": "stream",
     "text": [
      "Layer 0 \n",
      " [[ 0.18637276  0.4807637  -0.16423497 -0.14139692 -0.18676859  0.02521471\n",
      "   0.0806458   0.705507    0.18631546 -0.0315196 ]\n",
      " [-0.01472896 -0.06530108 -0.09515627 -0.01496782  0.0546421   0.05843709\n",
      "  -0.6875039  -0.13193183  0.35912922  0.03696295]\n",
      " [-0.01801087 -0.014326   -0.19615686  0.06950525  0.23439562 -0.00733078\n",
      "  -0.07291232 -0.07757045  0.7908447   0.52076465]\n",
      " [ 0.05150546  0.14956507  0.2671324  -0.07386474  0.45696533 -2.4647362\n",
      "   0.2047946   0.95191693 -0.00955687  0.77462757]\n",
      " [ 0.00975376  0.18583408 -0.12932135 -0.57467455  0.0928778  -0.08206505\n",
      "  -0.06010519 -0.10915121  0.45307413  0.42962205]\n",
      " [ 5.1030407   3.2972925   6.241628    0.16736083  2.4239604  -0.03727419\n",
      "  -0.22682865 -2.2131557   3.303217   -2.8653705 ]]\n",
      "Layer 1 \n",
      " [[ 5.949696    0.02202791 -0.4414134   0.9824892   0.5293645   2.832041\n",
      "   0.9137709  -0.39413413 -0.12470625  0.67840046]\n",
      " [ 0.891274    0.5605026  -0.97553885  0.16391344  0.44455647  0.86845154\n",
      "  -2.2547002  -0.9862008  -0.0775542   0.09292357]\n",
      " [ 3.4651437  -0.5382246   1.1333731   1.0858839   0.27859327  1.8277258\n",
      "  -4.3248606   1.465399    0.2322752   0.21425655]\n",
      " [-0.47682703  0.03577871  0.0337688   0.13826486  0.36109108  0.37863097\n",
      "  -0.14749849  0.36229497 -0.0367224  -0.08723979]\n",
      " [ 1.0773789   0.69503456 -1.3766804  -0.2770706   0.6694842  -0.13599412\n",
      "  -1.6034504  -0.44038925 -0.04825107 -0.14558446]\n",
      " [-0.622176   -6.101594   -0.5362449  -2.7548318  -4.1064496  -1.9561619\n",
      "  -0.0864016  -0.41851267 -2.8903162   1.2595373 ]\n",
      " [-0.28732163  0.46913782  0.21662022 -0.5189783   0.578123    0.41853094\n",
      "   0.04386787 -0.09390665 -0.04736486  0.54078156]\n",
      " [-1.3279502  -1.6787822  -0.7713884  -0.8771688  -0.9296336  -1.2384948\n",
      "   0.7912689  -0.7852195  -4.0101748  -1.6032164 ]\n",
      " [ 0.99901515  0.9419885  -0.51936513  0.76165354  0.7040252   0.8164672\n",
      "  -1.7127975  -1.3456566   0.7376691   0.22834983]\n",
      " [-1.6611125  -1.5327957  -0.0825454  -1.5662771  -1.8438882  -1.6563615\n",
      "   1.8545035   0.12573436 -3.094071   -1.6530383 ]]\n",
      "Layer 2 \n",
      " [[ 2.9983978]\n",
      " [ 5.1963034]\n",
      " [-1.4339412]\n",
      " [ 2.5813253]\n",
      " [ 4.4965177]\n",
      " [ 2.5965269]\n",
      " [ 6.7230916]\n",
      " [-1.6160142]\n",
      " [ 5.420372 ]\n",
      " [ 2.5588946]]\n"
     ]
    }
   ],
   "source": [
    "for i in range (0,3):\n",
    "    print('Layer',i, '\\n', model_8.layers[i].get_weights()[0])"
   ]
  },
  {
   "cell_type": "markdown",
   "metadata": {},
   "source": [
    "### Bias"
   ]
  },
  {
   "cell_type": "code",
   "execution_count": 78,
   "metadata": {
    "ExecuteTime": {
     "end_time": "2022-05-13T07:56:05.492978Z",
     "start_time": "2022-05-13T07:56:05.467438Z"
    }
   },
   "outputs": [
    {
     "name": "stdout",
     "output_type": "stream",
     "text": [
      "Layer 0 \n",
      " [-0.18956625  0.18793     0.3278069  -0.1295419  -0.13150875  1.1865779\n",
      " -0.19791345  1.0671521  -0.14179766  1.1229757 ]\n",
      "Layer 1 \n",
      " [ 0.5541392  -0.84105617  0.48964983 -0.07017602 -0.8234742  -0.07896383\n",
      " -1.3375953   0.5912529  -1.5023296  -0.57169044]\n",
      "Layer 2 \n",
      " [2.800778]\n"
     ]
    }
   ],
   "source": [
    "for i in range (0,3):\n",
    "    print('Layer',i, '\\n', model_8.layers[i].get_weights()[1])"
   ]
  },
  {
   "cell_type": "markdown",
   "metadata": {},
   "source": [
    "# Hyperparameter Tuning"
   ]
  },
  {
   "cell_type": "markdown",
   "metadata": {},
   "source": [
    "## Tuning"
   ]
  },
  {
   "cell_type": "code",
   "execution_count": 96,
   "metadata": {
    "ExecuteTime": {
     "end_time": "2022-05-13T08:18:18.503937Z",
     "start_time": "2022-05-13T08:18:18.486381Z"
    }
   },
   "outputs": [],
   "source": [
    "def model_builder(hp):\n",
    "    model = keras.Sequential()\n",
    "    model.add(keras.layers.Flatten(input_shape=[6]))\n",
    "\n",
    "    # Tune the number of units in the first Dense layer\n",
    "    hp_units = hp.Int('units', min_value=50, max_value=80, step=5)\n",
    "    model.add(keras.layers.Dense(units=hp_units,input_shape=[6], activation='relu',name=\"input_layer\"))\n",
    "    model.add(keras.layers.Dense(units=hp_units, activation='sigmoid'))\n",
    "    model.add(keras.layers.Dense(1,name=\"output_layer\"))\n",
    "\n",
    "    # Tune the learning rate for the optimizer\n",
    "    # Choose an optimal value from 0.01, 0.001, or 0.0001\n",
    "    hp_learning_rate = hp.Choice('learning_rate', values=[2e-3,2e-4])\n",
    "\n",
    "    model.compile(optimizer=keras.optimizers.Adam(learning_rate=hp_learning_rate),\n",
    "                loss=\"mae\",\n",
    "                metrics=['mae'])\n",
    "\n",
    "    return model"
   ]
  },
  {
   "cell_type": "code",
   "execution_count": 97,
   "metadata": {
    "ExecuteTime": {
     "end_time": "2022-05-13T08:18:24.997024Z",
     "start_time": "2022-05-13T08:18:24.934133Z"
    }
   },
   "outputs": [],
   "source": [
    "tuner = kt.Hyperband(model_builder,\n",
    "                     objective='mae',\n",
    "                     max_epochs=10,\n",
    "                     factor=5,\n",
    "                     seed = 46,\n",
    "                    project_name=\"Uber Model Tuner 6\")\n",
    "stop_early = tf.keras.callbacks.EarlyStopping(monitor='mae', patience=5)"
   ]
  },
  {
   "cell_type": "code",
   "execution_count": 98,
   "metadata": {
    "ExecuteTime": {
     "end_time": "2022-05-13T08:24:23.655338Z",
     "start_time": "2022-05-13T08:18:28.147024Z"
    }
   },
   "outputs": [
    {
     "name": "stdout",
     "output_type": "stream",
     "text": [
      "Trial 13 Complete [00h 00m 57s]\n",
      "mae: 1.755517601966858\n",
      "\n",
      "Best mae So Far: 1.706892490386963\n",
      "Total elapsed time: 00h 05m 55s\n",
      "INFO:tensorflow:Oracle triggered exit\n"
     ]
    }
   ],
   "source": [
    "tuner.search(x_train_iso_t, y_train_iso, epochs=200, validation_split=0.3)"
   ]
  },
  {
   "cell_type": "markdown",
   "metadata": {},
   "source": [
    "## Modeling"
   ]
  },
  {
   "cell_type": "markdown",
   "metadata": {},
   "source": [
    "### Create Model"
   ]
  },
  {
   "cell_type": "code",
   "execution_count": 94,
   "metadata": {
    "ExecuteTime": {
     "end_time": "2022-05-13T08:15:18.056829Z",
     "start_time": "2022-05-13T08:09:57.050262Z"
    }
   },
   "outputs": [
    {
     "data": {
      "image/png": "[encoded data removed]",
      "text/plain": [
       "<Figure size 432x288 with 1 Axes>"
      ]
     },
     "metadata": {
      "needs_background": "light"
     },
     "output_type": "display_data"
    }
   ],
   "source": [
    "best_hps=tuner.get_best_hyperparameters(num_trials=1)[0]\n",
    "model = tuner.hypermodel.build(best_hps)\n",
    "\n",
    "history9 = model.fit(tf.expand_dims(x_train_iso_t,axis=-1),y_train_iso,epochs=200,validation_split=0.3,batch_size = 32,callbacks=[callback],verbose = 0)\n",
    "loss(history9)"
   ]
  },
  {
   "cell_type": "code",
   "execution_count": 95,
   "metadata": {
    "ExecuteTime": {
     "end_time": "2022-05-13T08:15:18.072442Z",
     "start_time": "2022-05-13T08:15:18.058819Z"
    }
   },
   "outputs": [
    {
     "data": {
      "text/html": [
       "<div>\n",
       "<style scoped>\n",
       "    .dataframe tbody tr th:only-of-type {\n",
       "        vertical-align: middle;\n",
       "    }\n",
       "\n",
       "    .dataframe tbody tr th {\n",
       "        vertical-align: top;\n",
       "    }\n",
       "\n",
       "    .dataframe thead th {\n",
       "        text-align: right;\n",
       "    }\n",
       "</style>\n",
       "<table border=\"1\" class=\"dataframe\">\n",
       "  <thead>\n",
       "    <tr style=\"text-align: right;\">\n",
       "      <th></th>\n",
       "      <th>loss</th>\n",
       "      <th>mae</th>\n",
       "      <th>val_loss</th>\n",
       "      <th>val_mae</th>\n",
       "    </tr>\n",
       "  </thead>\n",
       "  <tbody>\n",
       "    <tr>\n",
       "      <th>70</th>\n",
       "      <td>1.664504</td>\n",
       "      <td>1.664504</td>\n",
       "      <td>1.658057</td>\n",
       "      <td>1.658057</td>\n",
       "    </tr>\n",
       "    <tr>\n",
       "      <th>51</th>\n",
       "      <td>1.669038</td>\n",
       "      <td>1.669038</td>\n",
       "      <td>1.658253</td>\n",
       "      <td>1.658253</td>\n",
       "    </tr>\n",
       "    <tr>\n",
       "      <th>37</th>\n",
       "      <td>1.672197</td>\n",
       "      <td>1.672197</td>\n",
       "      <td>1.659563</td>\n",
       "      <td>1.659563</td>\n",
       "    </tr>\n",
       "    <tr>\n",
       "      <th>49</th>\n",
       "      <td>1.668805</td>\n",
       "      <td>1.668805</td>\n",
       "      <td>1.659920</td>\n",
       "      <td>1.659920</td>\n",
       "    </tr>\n",
       "    <tr>\n",
       "      <th>69</th>\n",
       "      <td>1.665726</td>\n",
       "      <td>1.665726</td>\n",
       "      <td>1.659995</td>\n",
       "      <td>1.659995</td>\n",
       "    </tr>\n",
       "  </tbody>\n",
       "</table>\n",
       "</div>"
      ],
      "text/plain": [
       "        loss       mae  val_loss   val_mae\n",
       "70  1.664504  1.664504  1.658057  1.658057\n",
       "51  1.669038  1.669038  1.658253  1.658253\n",
       "37  1.672197  1.672197  1.659563  1.659563\n",
       "49  1.668805  1.668805  1.659920  1.659920\n",
       "69  1.665726  1.665726  1.659995  1.659995"
      ]
     },
     "execution_count": 95,
     "metadata": {},
     "output_type": "execute_result"
    }
   ],
   "source": [
    "df_9 = pd.DataFrame(history9.history).sort_values(\"val_mae\",ascending=True).head()\n",
    "df_9"
   ]
  },
  {
   "cell_type": "markdown",
   "metadata": {},
   "source": [
    "## Summary"
   ]
  },
  {
   "cell_type": "markdown",
   "metadata": {},
   "source": [
    "### Prediction"
   ]
  },
  {
   "cell_type": "code",
   "execution_count": 84,
   "metadata": {
    "ExecuteTime": {
     "end_time": "2022-05-13T08:01:26.798592Z",
     "start_time": "2022-05-13T08:01:24.358902Z"
    }
   },
   "outputs": [
    {
     "name": "stdout",
     "output_type": "stream",
     "text": [
      "1186/1186 [==============================] - 2s 2ms/step - loss: 1.6539 - mae: 1.6539\n"
     ]
    }
   ],
   "source": [
    "mod_tun= model.evaluate(x_test_iso_t,y_test_iso,batch_size=32)"
   ]
  },
  {
   "cell_type": "markdown",
   "metadata": {},
   "source": [
    "### Model Summary"
   ]
  },
  {
   "cell_type": "code",
   "execution_count": 85,
   "metadata": {
    "ExecuteTime": {
     "end_time": "2022-05-13T08:01:26.829278Z",
     "start_time": "2022-05-13T08:01:26.800580Z"
    },
    "scrolled": true
   },
   "outputs": [
    {
     "name": "stdout",
     "output_type": "stream",
     "text": [
      "Model: \"sequential_5\"\n",
      "_________________________________________________________________\n",
      " Layer (type)                Output Shape              Param #   \n",
      "=================================================================\n",
      " flatten_1 (Flatten)         (None, 6)                 0         \n",
      "                                                                 \n",
      " input_layer (Dense)         (None, 70)                490       \n",
      "                                                                 \n",
      " dense_10 (Dense)            (None, 70)                4970      \n",
      "                                                                 \n",
      " output_layer (Dense)        (None, 1)                 71        \n",
      "                                                                 \n",
      "=================================================================\n",
      "Total params: 5,531\n",
      "Trainable params: 5,531\n",
      "Non-trainable params: 0\n",
      "_________________________________________________________________\n"
     ]
    }
   ],
   "source": [
    "model.summary()"
   ]
  },
  {
   "cell_type": "markdown",
   "metadata": {},
   "source": [
    "### Weight"
   ]
  },
  {
   "cell_type": "code",
   "execution_count": 86,
   "metadata": {
    "ExecuteTime": {
     "end_time": "2022-05-13T08:01:26.861234Z",
     "start_time": "2022-05-13T08:01:26.832269Z"
    },
    "scrolled": true
   },
   "outputs": [
    {
     "name": "stdout",
     "output_type": "stream",
     "text": [
      "Layer 1 \n",
      " [[ 2.87467360e-01  1.39730871e-02 -1.82816386e-03 -1.64536583e+00\n",
      "   3.85010630e-01  2.74978038e-02 -1.28144860e-01 -6.21851563e-01\n",
      "  -3.28990877e-01 -4.45942938e-01  4.22376573e-01 -3.13484818e-01\n",
      "   3.28292370e-01  4.39652890e-01 -5.93340397e-03 -4.69242096e-01\n",
      "  -3.58036160e-01  3.04494590e-01 -2.68723100e-01 -1.78051859e-01\n",
      "   5.94555318e-01 -1.45483166e-02  3.87715369e-01  2.18801111e-01\n",
      "  -2.54276097e-01 -1.21191159e-01 -3.75290424e-01 -2.44511534e-02\n",
      "   5.94888985e-01 -4.42777574e-01  1.25847794e-02 -9.03303623e-01\n",
      "  -1.07146896e-01 -4.05209064e-01  3.45793515e-01 -6.01451993e-01\n",
      "  -7.27583319e-02 -4.03565884e-01  3.14923137e-01 -1.46950018e+00\n",
      "  -1.61915272e-01  1.65685982e-01  4.09111977e-01 -2.90002316e-01\n",
      "  -6.61009625e-02 -1.90685108e-01 -1.67102233e-01 -3.94459933e-01\n",
      "   6.71142191e-02 -4.74912822e-01 -8.39020871e-03 -6.51879162e-02\n",
      "  -4.50110659e-02  1.67949628e-02 -5.93219325e-02  9.84318275e-03\n",
      "   2.97840722e-02  1.37034893e-01  1.28541943e-02 -9.72176529e-03\n",
      "  -1.21556416e-01  4.64024425e-01 -1.85808301e-01  5.24847031e-01\n",
      "   3.08149159e-01 -4.13198620e-01 -2.14728534e-01  6.64450884e-01\n",
      "  -2.69675136e-01  3.77584994e-01]\n",
      " [ 2.57834017e-01 -2.10502893e-01 -6.27757013e-02  1.20724291e-01\n",
      "  -6.68604448e-02 -4.01523970e-02  6.57707810e-01  6.31822050e-02\n",
      "  -1.83319703e-01 -1.77452028e-01  1.70114338e-01  6.55551106e-02\n",
      "   4.86133918e-02 -9.58206058e-02  2.19086185e-02 -3.73497419e-02\n",
      "  -2.47381985e-01 -3.17782611e-01 -1.13048092e-01 -2.93010622e-01\n",
      "  -5.30921407e-02 -4.05542813e-02  2.44403496e-01  2.73102194e-01\n",
      "   9.57076028e-02 -5.54714352e-02 -2.23355919e-01  7.24728107e-02\n",
      "   1.52955249e-01 -2.10765338e+00  7.71463336e-03  5.51631868e-01\n",
      "  -9.26994905e-03 -2.08224237e-01 -1.79585278e-01  3.26216906e-01\n",
      "  -2.77259052e-01 -1.54739380e-01  2.60796323e-02 -1.37525707e-01\n",
      "   1.19949847e-01 -7.20759556e-02 -1.13574719e+00 -5.63307479e-02\n",
      "  -9.25868079e-02 -4.83620793e-01  1.40630856e-01  1.25892848e-01\n",
      "   9.49577428e-03 -8.67415294e-02  1.90909691e-02 -5.56219891e-02\n",
      "   4.10416648e-02 -3.90549004e-02 -1.86106831e-01  1.51005853e-02\n",
      "  -5.43519676e-01 -1.62899590e+00  1.97364911e-02 -6.14670245e-03\n",
      "   1.69423476e-01  2.66321510e-01 -3.73840630e-02  8.79146755e-02\n",
      "   1.86734945e-01 -4.23854053e-01  4.93302457e-02 -1.24514930e-01\n",
      "  -2.25032866e-02 -2.73050427e-01]\n",
      " [ 1.58681765e-01 -1.41602904e-01  1.55786276e-02  6.46365657e-02\n",
      "  -2.31846973e-01 -1.60937881e+00  8.71150121e-02  2.07558751e-01\n",
      "   5.19753575e-01  2.96195835e-01 -6.16511524e-01  2.91416477e-02\n",
      "  -1.82065070e-01  4.48336929e-01 -4.12271172e-02 -1.95724696e-01\n",
      "  -9.75954384e-02 -9.00484249e-02 -1.95200443e-02 -4.15918112e-01\n",
      "  -8.39650571e-01 -1.16095975e-01 -1.00244068e-01 -4.91413288e-02\n",
      "  -9.01182648e-03 -9.02686536e-01 -2.70236433e-01 -3.61734536e-03\n",
      "  -4.01446879e-01 -5.97374886e-02  3.38225551e-02  2.18692496e-01\n",
      "  -1.53543549e-02 -3.89131606e-01 -5.78953266e-01  1.67672947e-01\n",
      "  -1.78495407e-01 -1.07727379e-01  1.70856970e-03 -1.81206409e-02\n",
      "  -9.03870046e-01  1.74664706e-01 -1.01308890e-01 -6.92984164e-02\n",
      "   1.27290741e-01  2.99788624e-01 -2.18086854e-01 -2.58330017e-01\n",
      "   2.05979738e-02 -2.41170637e-02  1.58722892e-01  2.95844264e-02\n",
      "  -5.61932512e-02  1.26351053e-02 -5.37639309e-04  1.59449689e-03\n",
      "   3.55855525e-01  3.19203734e-01  8.87574069e-03 -2.38822550e-02\n",
      "  -5.85779309e-01  5.28917968e-01 -1.66869119e-01  1.18956089e-01\n",
      "   2.23767281e-01 -2.43824750e-01 -1.78778380e-01 -3.86641286e-02\n",
      "  -2.52232939e-01 -4.57717851e-02]\n",
      " [-2.03157619e-01  1.61201060e-02 -1.70109361e-01  3.53804648e-01\n",
      "  -1.64457941e+00  1.84766322e-01 -2.43671909e-02  7.29318738e-01\n",
      "  -3.79545718e-01  4.13727611e-01 -6.66736364e-01 -1.03817903e-01\n",
      "   1.55298680e-01 -1.25574246e-01 -3.00995819e-02 -2.02076972e-01\n",
      "  -1.39466718e-01 -7.40508854e-01 -2.37598479e-01  4.58366215e-01\n",
      "   1.07960507e-01 -1.00149505e-01 -5.79365827e-02 -1.09358931e+00\n",
      "   2.20863193e-01  1.60177425e-01  1.70444116e-01 -8.05386826e-02\n",
      "  -1.13398219e-02  1.79026291e-01  5.01974523e-02 -2.35651076e-01\n",
      "  -1.62043846e+00 -1.96534827e-01 -2.25770041e-01  1.80527896e-01\n",
      "  -6.19999021e-02 -1.67374775e-01  5.52812874e-01  8.09245408e-02\n",
      "   8.52143764e-02 -1.81494498e+00 -1.76714119e-02 -2.05200851e-01\n",
      "  -7.24011600e-01  3.43201548e-01  5.51342666e-01 -9.43205237e-01\n",
      "   8.42585973e-03  1.00770637e-01 -6.93695486e-01  2.33917207e-01\n",
      "  -3.47787663e-02  1.60674993e-02  3.30230892e-01  7.42079616e-01\n",
      "  -1.80433989e-01 -2.71543086e-01 -2.74562854e-02 -2.20057511e+00\n",
      "  -1.79116026e-01 -5.43906212e-01  1.83069378e-01  2.39230558e-01\n",
      "   3.18564802e-01  2.96307672e-02 -7.18817289e-04 -4.47375402e-02\n",
      "  -2.16427684e-01  1.53479725e-01]\n",
      " [-1.33211052e+00 -5.27834296e-02 -7.65447915e-02  7.17261285e-02\n",
      "   2.70344287e-01 -5.23285747e-01 -3.44377421e-02 -1.52314678e-01\n",
      "  -1.24945352e-02  1.67905577e-02 -4.22084898e-01  7.49888346e-02\n",
      "   4.27538186e-01  1.07150368e-01  4.13504010e-03  1.42121911e-02\n",
      "  -8.53951126e-02 -1.94542497e-01 -1.03581086e-01 -1.18320115e-01\n",
      "   5.16609959e-02 -8.45533982e-02  5.37283123e-01 -2.30598673e-01\n",
      "  -1.75274968e-01  1.03746772e-01 -2.56241053e-01 -3.26703563e-02\n",
      "  -2.58119643e-01  1.37360960e-01  2.77891029e-02 -1.98660955e-01\n",
      "  -1.12454504e-01  3.48523468e-01  3.41717899e-01  1.96444497e-01\n",
      "  -2.16173589e-01 -6.72258958e-02  1.65530853e-02 -1.00415476e-01\n",
      "  -4.54871356e-01  9.91812497e-02 -5.71288586e-01 -2.27823883e-01\n",
      "  -1.55962273e-01 -5.19788861e-01 -1.61708236e-01  4.68818098e-01\n",
      "   2.30483934e-02  7.57748112e-02 -1.34090036e-01  4.26304415e-02\n",
      "   1.07071429e-01  1.10782767e-02  4.03992891e-01  4.34228964e-02\n",
      "  -1.04152536e+00  1.50794789e-01 -7.03158230e-03 -1.01570390e-01\n",
      "   2.57540643e-01 -2.52528340e-01  1.19865865e-01 -1.20099330e+00\n",
      "   1.06705748e-01 -2.80700196e-02 -2.32028320e-01 -1.01623321e+00\n",
      "  -2.64133602e-01  1.69192553e-01]\n",
      " [ 4.52283561e-01 -1.67514980e-01 -2.80216277e-01  3.51451695e-01\n",
      "   6.32916570e-01  3.53630364e-01  7.21838534e-01  1.06919155e-01\n",
      "   5.92938423e-01  5.22403061e-01  7.55740523e-01 -6.57568797e-02\n",
      "   5.14909387e-01  3.47765237e-01  1.72679377e+00  1.00703776e+00\n",
      "   1.07296479e+00  1.16958523e+00  1.61566138e-01 -1.26662236e-02\n",
      "   9.28431213e-01  1.52840483e+00  4.07374918e-01  3.66441846e-01\n",
      "  -3.21407437e-01  2.48038128e-01 -2.32781485e-01  1.88870811e+00\n",
      "   7.58788705e-01  8.32656324e-01 -1.02279396e+01 -5.63882172e-01\n",
      "   1.68850720e-01  9.96834338e-01  8.75172317e-01  5.56658506e-01\n",
      "  -2.35076368e-01  1.20293951e+00  2.81029865e-02  1.80395082e-01\n",
      "   9.50791180e-01  1.03668056e-01  8.06587875e-01  6.60385430e-01\n",
      "   4.41441566e-01  8.01448226e-01  5.83405852e-01  4.76458460e-01\n",
      "   2.07736444e+00  1.32305229e+00  1.07466018e+00 -1.70649290e-01\n",
      "   1.72200477e+00  2.11024070e+00 -3.31989199e-01  9.19329524e-02\n",
      "   8.12918305e-01  2.33165994e-01  2.02991486e+00  8.40635523e-02\n",
      "   1.05569780e+00  4.47032511e-01  9.09964204e-01  5.21162450e-01\n",
      "  -4.22164738e-01  1.23697567e+00  2.04885844e-02  6.07972801e-01\n",
      "   1.33555233e-01 -1.30523169e+00]]\n",
      "Layer 2 \n",
      " [[-0.18899833 -0.6966675   0.2058349  ... -0.55258334  0.34324282\n",
      "   0.06599883]\n",
      " [ 0.1155064   0.14604329  0.11700039 ... -0.12556432 -0.2015876\n",
      "   0.20587043]\n",
      " [ 0.03412309  0.10512184 -0.08699645 ...  0.1819833  -0.09396901\n",
      "   0.11880739]\n",
      " ...\n",
      " [ 0.06028603 -1.004062    0.4844909  ... -1.1268761   0.4701248\n",
      "  -0.25823492]\n",
      " [ 0.20064686 -0.01082821 -0.13286442 ...  0.07716407 -0.00518326\n",
      "   0.08514081]\n",
      " [-0.42351115 -0.29988858  0.22456048 ... -0.23869722  0.27266592\n",
      "  -0.4742734 ]]\n",
      "Layer 3 \n",
      " [[-0.702071  ]\n",
      " [ 0.5506752 ]\n",
      " [ 0.64500725]\n",
      " [ 0.38517654]\n",
      " [ 0.4327244 ]\n",
      " [ 0.64614844]\n",
      " [-0.27265972]\n",
      " [ 0.5249378 ]\n",
      " [-0.19638158]\n",
      " [-0.62262046]\n",
      " [ 0.487789  ]\n",
      " [-0.7557733 ]\n",
      " [-0.91843396]\n",
      " [ 0.6058582 ]\n",
      " [-0.40351656]\n",
      " [-0.3306584 ]\n",
      " [ 0.605483  ]\n",
      " [ 0.55471003]\n",
      " [ 0.6688831 ]\n",
      " [-0.2940964 ]\n",
      " [ 0.78682834]\n",
      " [ 0.46645418]\n",
      " [ 0.5539045 ]\n",
      " [ 0.82312727]\n",
      " [ 0.46619737]\n",
      " [ 0.58266735]\n",
      " [-0.31071165]\n",
      " [-0.30353323]\n",
      " [-0.3056891 ]\n",
      " [ 0.614814  ]\n",
      " [ 0.65825766]\n",
      " [ 0.7091201 ]\n",
      " [ 0.594871  ]\n",
      " [ 0.6272093 ]\n",
      " [ 0.61457896]\n",
      " [ 0.7524373 ]\n",
      " [ 1.5677953 ]\n",
      " [ 0.6388118 ]\n",
      " [-0.24733138]\n",
      " [-0.8329812 ]\n",
      " [ 0.6351895 ]\n",
      " [ 0.71850824]\n",
      " [ 0.40596256]\n",
      " [-0.36874872]\n",
      " [ 0.5103263 ]\n",
      " [ 0.70279807]\n",
      " [ 0.45938316]\n",
      " [ 0.6584679 ]\n",
      " [ 1.0930943 ]\n",
      " [ 1.0725082 ]\n",
      " [ 0.8319825 ]\n",
      " [ 0.5057666 ]\n",
      " [ 0.42327228]\n",
      " [ 0.44846648]\n",
      " [-0.26866826]\n",
      " [ 0.5167843 ]\n",
      " [ 0.4969526 ]\n",
      " [ 0.4608073 ]\n",
      " [ 0.4127725 ]\n",
      " [ 0.95512986]\n",
      " [-0.34424692]\n",
      " [-0.520093  ]\n",
      " [-0.50978935]\n",
      " [ 0.40587947]\n",
      " [ 1.3231052 ]\n",
      " [ 0.45006934]\n",
      " [ 0.7251563 ]\n",
      " [ 0.57056797]\n",
      " [ 0.5862809 ]\n",
      " [-0.21210136]]\n"
     ]
    }
   ],
   "source": [
    "for i in range (1,4):\n",
    "    print('Layer',i, '\\n', model.layers[i].get_weights()[0])"
   ]
  },
  {
   "cell_type": "markdown",
   "metadata": {},
   "source": [
    "### Bias"
   ]
  },
  {
   "cell_type": "code",
   "execution_count": 87,
   "metadata": {
    "ExecuteTime": {
     "end_time": "2022-05-13T08:01:26.876489Z",
     "start_time": "2022-05-13T08:01:26.863221Z"
    }
   },
   "outputs": [
    {
     "name": "stdout",
     "output_type": "stream",
     "text": [
      "Layer 1 \n",
      " [-0.0057222   0.          0.         -0.33212334 -0.26273748  0.26437637\n",
      " -0.48047316 -0.47631598 -0.3366896  -0.6467133  -0.11042116 -0.11208092\n",
      " -0.7976151  -0.5678693  -0.11661078 -0.26878652 -0.22391443 -0.0837907\n",
      "  0.         -0.37488294 -0.41392586 -0.24008086 -0.8085182   0.36365515\n",
      "  0.5003955   0.29308724  0.52644515 -0.06125917 -0.46411267  0.08457462\n",
      "  0.09987684 -0.15447657  0.6366609  -0.5196564  -0.47575772 -0.7502107\n",
      "  0.         -0.32070762 -0.49121565  0.15570018 -0.31319922  0.58181435\n",
      " -0.13772762 -0.36083287 -0.23343217 -0.4690709  -0.59547883  0.05310728\n",
      " -0.10602173 -0.38828546 -0.09091198 -0.28867176 -0.19512835 -0.09414731\n",
      "  0.6161854  -0.6382219  -0.20623246 -0.32544976 -0.07606771  0.60810584\n",
      " -0.18303995 -0.40666038 -0.698018   -0.4389269   0.68888044 -0.22995283\n",
      " -0.0265429  -0.29083523  0.         -0.27007982]\n",
      "Layer 2 \n",
      " [-0.08222561 -0.7373324  -0.28702408 -0.71825045 -0.65013635 -0.4436669\n",
      " -0.2103687  -0.81505257 -0.07210346 -0.11249226 -0.39239937 -0.01947493\n",
      "  0.02156314 -0.5605488  -0.25419784 -0.03026355 -0.85065573 -0.49732983\n",
      " -0.8672886  -0.12414586 -0.93176776 -0.5784198  -0.8220901  -0.570989\n",
      " -0.8717019  -0.38771144 -0.00251322 -0.16278252 -0.10602705 -0.58870447\n",
      " -0.34892693 -0.09995341 -0.8541166  -0.27270332 -0.41856283 -0.17568417\n",
      " -1.1825889  -0.34852716 -0.0429021   0.00986912 -0.3868286  -0.2499788\n",
      " -0.60641056 -0.14310524 -0.64285976 -0.7873093  -0.5287615  -0.2727286\n",
      " -1.1043262  -1.0785639  -0.9862127  -0.65817505 -0.5506835  -0.62497026\n",
      "  0.06292122 -0.6718643  -0.41897294 -0.5003165  -0.7047056  -1.0037521\n",
      " -0.20131835 -0.2270275  -0.16894902 -0.82598555 -1.1324649  -0.7855269\n",
      " -0.2956122  -0.904363   -0.27127123 -0.16634986]\n",
      "Layer 3 \n",
      " [0.25496975]\n"
     ]
    }
   ],
   "source": [
    "for i in range (1,4):\n",
    "    print('Layer',i, '\\n', model.layers[i].get_weights()[1])"
   ]
  },
  {
   "cell_type": "markdown",
   "metadata": {},
   "source": [
    "# Prediction Result"
   ]
  },
  {
   "cell_type": "code",
   "execution_count": 88,
   "metadata": {
    "ExecuteTime": {
     "end_time": "2022-05-13T08:01:28.178955Z",
     "start_time": "2022-05-13T08:01:26.879764Z"
    }
   },
   "outputs": [
    {
     "data": {
      "text/html": [
       "<div>\n",
       "<style scoped>\n",
       "    .dataframe tbody tr th:only-of-type {\n",
       "        vertical-align: middle;\n",
       "    }\n",
       "\n",
       "    .dataframe tbody tr th {\n",
       "        vertical-align: top;\n",
       "    }\n",
       "\n",
       "    .dataframe thead th {\n",
       "        text-align: right;\n",
       "    }\n",
       "</style>\n",
       "<table border=\"1\" class=\"dataframe\">\n",
       "  <thead>\n",
       "    <tr style=\"text-align: right;\">\n",
       "      <th></th>\n",
       "      <th>passenger_count</th>\n",
       "      <th>month</th>\n",
       "      <th>day</th>\n",
       "      <th>hour</th>\n",
       "      <th>minute</th>\n",
       "      <th>distance</th>\n",
       "      <th>Prediction</th>\n",
       "      <th>Fare_Amount</th>\n",
       "    </tr>\n",
       "  </thead>\n",
       "  <tbody>\n",
       "    <tr>\n",
       "      <th>63650</th>\n",
       "      <td>2</td>\n",
       "      <td>7</td>\n",
       "      <td>19</td>\n",
       "      <td>11</td>\n",
       "      <td>29</td>\n",
       "      <td>2.63</td>\n",
       "      <td>9.752669</td>\n",
       "      <td>12.0</td>\n",
       "    </tr>\n",
       "    <tr>\n",
       "      <th>132680</th>\n",
       "      <td>2</td>\n",
       "      <td>2</td>\n",
       "      <td>27</td>\n",
       "      <td>15</td>\n",
       "      <td>50</td>\n",
       "      <td>1.13</td>\n",
       "      <td>5.676755</td>\n",
       "      <td>4.5</td>\n",
       "    </tr>\n",
       "    <tr>\n",
       "      <th>51701</th>\n",
       "      <td>1</td>\n",
       "      <td>7</td>\n",
       "      <td>9</td>\n",
       "      <td>6</td>\n",
       "      <td>44</td>\n",
       "      <td>0.90</td>\n",
       "      <td>4.450456</td>\n",
       "      <td>4.0</td>\n",
       "    </tr>\n",
       "    <tr>\n",
       "      <th>58343</th>\n",
       "      <td>1</td>\n",
       "      <td>5</td>\n",
       "      <td>18</td>\n",
       "      <td>6</td>\n",
       "      <td>45</td>\n",
       "      <td>0.77</td>\n",
       "      <td>4.250412</td>\n",
       "      <td>4.1</td>\n",
       "    </tr>\n",
       "    <tr>\n",
       "      <th>27373</th>\n",
       "      <td>2</td>\n",
       "      <td>5</td>\n",
       "      <td>26</td>\n",
       "      <td>23</td>\n",
       "      <td>33</td>\n",
       "      <td>0.68</td>\n",
       "      <td>4.271000</td>\n",
       "      <td>3.3</td>\n",
       "    </tr>\n",
       "    <tr>\n",
       "      <th>101780</th>\n",
       "      <td>1</td>\n",
       "      <td>7</td>\n",
       "      <td>12</td>\n",
       "      <td>11</td>\n",
       "      <td>53</td>\n",
       "      <td>2.72</td>\n",
       "      <td>9.834371</td>\n",
       "      <td>10.0</td>\n",
       "    </tr>\n",
       "    <tr>\n",
       "      <th>124436</th>\n",
       "      <td>1</td>\n",
       "      <td>9</td>\n",
       "      <td>11</td>\n",
       "      <td>22</td>\n",
       "      <td>48</td>\n",
       "      <td>1.24</td>\n",
       "      <td>5.533067</td>\n",
       "      <td>10.5</td>\n",
       "    </tr>\n",
       "    <tr>\n",
       "      <th>57811</th>\n",
       "      <td>1</td>\n",
       "      <td>3</td>\n",
       "      <td>12</td>\n",
       "      <td>17</td>\n",
       "      <td>2</td>\n",
       "      <td>1.12</td>\n",
       "      <td>5.555438</td>\n",
       "      <td>6.5</td>\n",
       "    </tr>\n",
       "    <tr>\n",
       "      <th>132720</th>\n",
       "      <td>1</td>\n",
       "      <td>9</td>\n",
       "      <td>1</td>\n",
       "      <td>16</td>\n",
       "      <td>42</td>\n",
       "      <td>3.25</td>\n",
       "      <td>10.706995</td>\n",
       "      <td>10.5</td>\n",
       "    </tr>\n",
       "    <tr>\n",
       "      <th>105048</th>\n",
       "      <td>1</td>\n",
       "      <td>3</td>\n",
       "      <td>13</td>\n",
       "      <td>14</td>\n",
       "      <td>13</td>\n",
       "      <td>4.09</td>\n",
       "      <td>12.859071</td>\n",
       "      <td>14.0</td>\n",
       "    </tr>\n",
       "  </tbody>\n",
       "</table>\n",
       "</div>"
      ],
      "text/plain": [
       "        passenger_count  month  day  hour  minute  distance  Prediction  \\\n",
       "63650                 2      7   19    11      29      2.63    9.752669   \n",
       "132680                2      2   27    15      50      1.13    5.676755   \n",
       "51701                 1      7    9     6      44      0.90    4.450456   \n",
       "58343                 1      5   18     6      45      0.77    4.250412   \n",
       "27373                 2      5   26    23      33      0.68    4.271000   \n",
       "101780                1      7   12    11      53      2.72    9.834371   \n",
       "124436                1      9   11    22      48      1.24    5.533067   \n",
       "57811                 1      3   12    17       2      1.12    5.555438   \n",
       "132720                1      9    1    16      42      3.25   10.706995   \n",
       "105048                1      3   13    14      13      4.09   12.859071   \n",
       "\n",
       "        Fare_Amount  \n",
       "63650          12.0  \n",
       "132680          4.5  \n",
       "51701           4.0  \n",
       "58343           4.1  \n",
       "27373           3.3  \n",
       "101780         10.0  \n",
       "124436         10.5  \n",
       "57811           6.5  \n",
       "132720         10.5  \n",
       "105048         14.0  "
      ]
     },
     "execution_count": 88,
     "metadata": {},
     "output_type": "execute_result"
    }
   ],
   "source": [
    "df_res = x_test_iso\n",
    "df_res[\"Prediction\"] = (model.predict(x_test_iso_t))\n",
    "df_res['Fare_Amount'] = y_test_iso\n",
    "df_res.tail(10)"
   ]
  },
  {
   "cell_type": "markdown",
   "metadata": {},
   "source": [
    "# Conclusion"
   ]
  },
  {
   "cell_type": "markdown",
   "metadata": {},
   "source": [
    "## Summary Model"
   ]
  },
  {
   "cell_type": "code",
   "execution_count": 89,
   "metadata": {
    "ExecuteTime": {
     "end_time": "2022-05-13T08:01:28.209828Z",
     "start_time": "2022-05-13T08:01:28.180948Z"
    }
   },
   "outputs": [
    {
     "data": {
      "text/html": [
       "<div>\n",
       "<style scoped>\n",
       "    .dataframe tbody tr th:only-of-type {\n",
       "        vertical-align: middle;\n",
       "    }\n",
       "\n",
       "    .dataframe tbody tr th {\n",
       "        vertical-align: top;\n",
       "    }\n",
       "\n",
       "    .dataframe thead th {\n",
       "        text-align: right;\n",
       "    }\n",
       "</style>\n",
       "<table border=\"1\" class=\"dataframe\">\n",
       "  <thead>\n",
       "    <tr style=\"text-align: right;\">\n",
       "      <th></th>\n",
       "      <th>MAE Data Train</th>\n",
       "      <th>MAE Data Validation</th>\n",
       "      <th>MAE Data Test</th>\n",
       "    </tr>\n",
       "    <tr>\n",
       "      <th>Model</th>\n",
       "      <th></th>\n",
       "      <th></th>\n",
       "      <th></th>\n",
       "    </tr>\n",
       "  </thead>\n",
       "  <tbody>\n",
       "    <tr>\n",
       "      <th>Basic Neural Network</th>\n",
       "      <td>5.408067</td>\n",
       "      <td>5.424577</td>\n",
       "      <td>5.384887</td>\n",
       "    </tr>\n",
       "    <tr>\n",
       "      <th>Basic Neural Network Isolation</th>\n",
       "      <td>3.175559</td>\n",
       "      <td>3.133450</td>\n",
       "      <td>5.418192</td>\n",
       "    </tr>\n",
       "    <tr>\n",
       "      <th>Neural Network Isolation</th>\n",
       "      <td>1.681334</td>\n",
       "      <td>1.671631</td>\n",
       "      <td>1.689075</td>\n",
       "    </tr>\n",
       "    <tr>\n",
       "      <th>Neural Network Isolation Tuned</th>\n",
       "      <td>1.665117</td>\n",
       "      <td>1.656574</td>\n",
       "      <td>1.653926</td>\n",
       "    </tr>\n",
       "  </tbody>\n",
       "</table>\n",
       "</div>"
      ],
      "text/plain": [
       "                                MAE Data Train  MAE Data Validation  \\\n",
       "Model                                                                 \n",
       "Basic Neural Network                  5.408067             5.424577   \n",
       "Basic Neural Network Isolation        3.175559             3.133450   \n",
       "Neural Network Isolation              1.681334             1.671631   \n",
       "Neural Network Isolation Tuned        1.665117             1.656574   \n",
       "\n",
       "                                MAE Data Test  \n",
       "Model                                          \n",
       "Basic Neural Network                 5.384887  \n",
       "Basic Neural Network Isolation       5.418192  \n",
       "Neural Network Isolation             1.689075  \n",
       "Neural Network Isolation Tuned       1.653926  "
      ]
     },
     "execution_count": 89,
     "metadata": {},
     "output_type": "execute_result"
    }
   ],
   "source": [
    "pd.DataFrame({'Model':[\"Basic Neural Network\",\"Basic Neural Network Isolation\",\"Neural Network Isolation\",\"Neural Network Isolation Tuned\"],\n",
    "            'MAE Data Train':[df_1['mae'].iloc[0],df_2['mae'].iloc[0],df_8['mae'].iloc[0],df_9['mae'].iloc[0]],\n",
    "            'MAE Data Validation':[df_1['val_mae'].iloc[0],df_2['val_mae'].iloc[0],df_8['val_mae'].iloc[0],df_9['val_mae'].iloc[0]],\n",
    "            'MAE Data Test': [bas[1],bas_out[1],mod_dl[1],mod_tun[1]]\n",
    "             }).set_index('Model')"
   ]
  },
  {
   "cell_type": "code",
   "execution_count": 90,
   "metadata": {
    "ExecuteTime": {
     "end_time": "2022-05-13T08:01:28.240182Z",
     "start_time": "2022-05-13T08:01:28.211821Z"
    }
   },
   "outputs": [
    {
     "name": "stdout",
     "output_type": "stream",
     "text": [
      "Model: \"sequential_5\"\n",
      "_________________________________________________________________\n",
      " Layer (type)                Output Shape              Param #   \n",
      "=================================================================\n",
      " flatten_1 (Flatten)         (None, 6)                 0         \n",
      "                                                                 \n",
      " input_layer (Dense)         (None, 70)                490       \n",
      "                                                                 \n",
      " dense_10 (Dense)            (None, 70)                4970      \n",
      "                                                                 \n",
      " output_layer (Dense)        (None, 1)                 71        \n",
      "                                                                 \n",
      "=================================================================\n",
      "Total params: 5,531\n",
      "Trainable params: 5,531\n",
      "Non-trainable params: 0\n",
      "_________________________________________________________________\n"
     ]
    }
   ],
   "source": [
    "model.summary()"
   ]
  },
  {
   "cell_type": "markdown",
   "metadata": {},
   "source": [
    "## Business Insight"
   ]
  },
  {
   "cell_type": "markdown",
   "metadata": {},
   "source": [
    "With this algorithm, Company can determine fare amount not only based on distance, but can be day or time so the price more suitable for consumer, driver, and company.\n",
    "\n",
    "With data analytics, we found:\n",
    "* 2012 have the most transaction than others years.\n",
    "* 2013 have the most revenue than others years.\n",
    "* There is no difference between weekday and weekend\n",
    "* Saturday have the most transactions than others days."
   ]
  },
  {
   "cell_type": "markdown",
   "metadata": {},
   "source": [
    "## Recommendation"
   ]
  },
  {
   "cell_type": "markdown",
   "metadata": {},
   "source": [
    "* With deep learning, we cant determine how model works, so we need model to describe what factor which have more effect tp fare amount.\n",
    "* More feature like city, holiday, event, etc can help to make model more accureate."
   ]
  }
 ],
 "metadata": {
  "kernelspec": {
   "display_name": "Python 3",
   "language": "python",
   "name": "python3"
  },
  "language_info": {
   "codemirror_mode": {
    "name": "ipython",
    "version": 3
   },
   "file_extension": ".py",
   "mimetype": "text/x-python",
   "name": "python",
   "nbconvert_exporter": "python",
   "pygments_lexer": "ipython3",
   "version": "3.8.3"
  },
  "toc": {
   "base_numbering": 1,
   "nav_menu": {},
   "number_sections": true,
   "sideBar": true,
   "skip_h1_title": false,
   "title_cell": "Table of Contents",
   "title_sidebar": "Contents",
   "toc_cell": false,
   "toc_position": {
    "height": "calc(100% - 180px)",
    "left": "10px",
    "top": "150px",
    "width": "263.09px"
   },
   "toc_section_display": true,
   "toc_window_display": true
  }
 },
 "nbformat": 4,
 "nbformat_minor": 4
}
